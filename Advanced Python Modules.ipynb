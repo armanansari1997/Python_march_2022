{
 "cells": [
  {
   "cell_type": "code",
   "execution_count": 123,
   "id": "8e450dc3",
   "metadata": {},
   "outputs": [],
   "source": []
  },
  {
   "cell_type": "markdown",
   "id": "4257ffa4",
   "metadata": {},
   "source": [
    "**Python Collections Module**"
   ]
  },
  {
   "cell_type": "code",
   "execution_count": null,
   "id": "f63be96e",
   "metadata": {},
   "outputs": [],
   "source": [
    "from collections import Counter"
   ]
  },
  {
   "cell_type": "code",
   "execution_count": 11,
   "id": "63ba2b26",
   "metadata": {},
   "outputs": [],
   "source": [
    "mylist = [1,1,1,1,1,2,2,2,2,3,3,3,4,4,4,4,4,4,4,4,4]"
   ]
  },
  {
   "cell_type": "code",
   "execution_count": 12,
   "id": "19f8f4cf",
   "metadata": {},
   "outputs": [
    {
     "data": {
      "text/plain": [
       "Counter({1: 5, 2: 4, 3: 3, 4: 9})"
      ]
     },
     "execution_count": 12,
     "metadata": {},
     "output_type": "execute_result"
    }
   ],
   "source": [
    "Counter(mylist)"
   ]
  },
  {
   "cell_type": "code",
   "execution_count": 13,
   "id": "476188bc",
   "metadata": {},
   "outputs": [],
   "source": [
    "mylist = ['a','a',10,10,10]"
   ]
  },
  {
   "cell_type": "code",
   "execution_count": 14,
   "id": "756b85c6",
   "metadata": {},
   "outputs": [
    {
     "data": {
      "text/plain": [
       "Counter({'a': 2, 10: 3})"
      ]
     },
     "execution_count": 14,
     "metadata": {},
     "output_type": "execute_result"
    }
   ],
   "source": [
    "Counter(mylist)"
   ]
  },
  {
   "cell_type": "code",
   "execution_count": 15,
   "id": "ece54f2f",
   "metadata": {},
   "outputs": [],
   "source": [
    "s = 'aabbbccccdddddeeeeeee'"
   ]
  },
  {
   "cell_type": "code",
   "execution_count": 16,
   "id": "4772be21",
   "metadata": {},
   "outputs": [
    {
     "data": {
      "text/plain": [
       "Counter({'a': 2, 'b': 3, 'c': 4, 'd': 5, 'e': 7})"
      ]
     },
     "execution_count": 16,
     "metadata": {},
     "output_type": "execute_result"
    }
   ],
   "source": [
    "Counter(s)"
   ]
  },
  {
   "cell_type": "code",
   "execution_count": 17,
   "id": "9838f895",
   "metadata": {},
   "outputs": [],
   "source": [
    "sentence = \"How many times does each word show up in this sentence with a word\""
   ]
  },
  {
   "cell_type": "code",
   "execution_count": 18,
   "id": "c56a9fa5",
   "metadata": {},
   "outputs": [
    {
     "data": {
      "text/plain": [
       "Counter({'how': 1,\n",
       "         'many': 1,\n",
       "         'times': 1,\n",
       "         'does': 1,\n",
       "         'each': 1,\n",
       "         'word': 2,\n",
       "         'show': 1,\n",
       "         'up': 1,\n",
       "         'in': 1,\n",
       "         'this': 1,\n",
       "         'sentence': 1,\n",
       "         'with': 1,\n",
       "         'a': 1})"
      ]
     },
     "execution_count": 18,
     "metadata": {},
     "output_type": "execute_result"
    }
   ],
   "source": [
    "Counter(sentence.lower().split())"
   ]
  },
  {
   "cell_type": "code",
   "execution_count": 85,
   "id": "fc859769",
   "metadata": {},
   "outputs": [
    {
     "name": "stdout",
     "output_type": "stream",
     "text": [
      "Counter({'word': 2, 'how': 1, 'many': 1, 'times': 1, 'does': 1, 'each': 1, 'show': 1, 'up': 1, 'in': 1, 'this': 1, 'sentence': 1, 'with': 1, 'a': 1})\n"
     ]
    }
   ],
   "source": [
    "print(Counter(sentence.lower().split()))"
   ]
  },
  {
   "cell_type": "code",
   "execution_count": 35,
   "id": "bd0ee963",
   "metadata": {},
   "outputs": [],
   "source": [
    "letters = 'aaabcbccddeehjeddeehjjj'"
   ]
  },
  {
   "cell_type": "code",
   "execution_count": 36,
   "id": "b66b8dfc",
   "metadata": {},
   "outputs": [],
   "source": [
    "c = Counter(letters)"
   ]
  },
  {
   "cell_type": "code",
   "execution_count": 38,
   "id": "56765c07",
   "metadata": {},
   "outputs": [
    {
     "data": {
      "text/plain": [
       "Counter({'a': 3, 'b': 2, 'c': 3, 'd': 4, 'e': 5, 'h': 2, 'j': 4})"
      ]
     },
     "execution_count": 38,
     "metadata": {},
     "output_type": "execute_result"
    }
   ],
   "source": [
    "c"
   ]
  },
  {
   "cell_type": "code",
   "execution_count": 28,
   "id": "2a106a20",
   "metadata": {},
   "outputs": [
    {
     "data": {
      "text/plain": [
       "[('e', 5), ('d', 4), ('j', 4), ('a', 3), ('c', 3), ('b', 2), ('h', 2)]"
      ]
     },
     "execution_count": 28,
     "metadata": {},
     "output_type": "execute_result"
    }
   ],
   "source": [
    "c.most_common()"
   ]
  },
  {
   "cell_type": "code",
   "execution_count": 30,
   "id": "bcd22f48",
   "metadata": {},
   "outputs": [
    {
     "data": {
      "text/plain": [
       "[('e', 5), ('d', 4)]"
      ]
     },
     "execution_count": 30,
     "metadata": {},
     "output_type": "execute_result"
    }
   ],
   "source": [
    "c.most_common(2)"
   ]
  },
  {
   "cell_type": "code",
   "execution_count": 88,
   "id": "6054340b",
   "metadata": {},
   "outputs": [
    {
     "data": {
      "text/plain": [
       "Counter({'a': 3, 'b': 2, 'c': 3, 'd': 4, 'e': 5, 'h': 2, 'j': 4})"
      ]
     },
     "execution_count": 88,
     "metadata": {},
     "output_type": "execute_result"
    }
   ],
   "source": [
    "c"
   ]
  },
  {
   "cell_type": "code",
   "execution_count": 89,
   "id": "586e2861",
   "metadata": {},
   "outputs": [
    {
     "name": "stdout",
     "output_type": "stream",
     "text": [
      "e 5\n",
      "d 4\n",
      "j 4\n",
      "a 3\n",
      "c 3\n",
      "b 2\n",
      "h 2\n"
     ]
    }
   ],
   "source": [
    "for key,val in c.most_common():\n",
    "    print(key,val)"
   ]
  },
  {
   "cell_type": "code",
   "execution_count": 42,
   "id": "866e13b4",
   "metadata": {},
   "outputs": [
    {
     "data": {
      "text/plain": [
       "['a', 'b', 'c', 'd', 'e', 'h', 'j']"
      ]
     },
     "execution_count": 42,
     "metadata": {},
     "output_type": "execute_result"
    }
   ],
   "source": [
    "list(c)"
   ]
  },
  {
   "cell_type": "code",
   "execution_count": 48,
   "id": "526d7cf2",
   "metadata": {},
   "outputs": [],
   "source": [
    "## Create Normal Dictionary"
   ]
  },
  {
   "cell_type": "code",
   "execution_count": 44,
   "id": "70e552c8",
   "metadata": {},
   "outputs": [],
   "source": [
    "from collections import defaultdict"
   ]
  },
  {
   "cell_type": "code",
   "execution_count": 45,
   "id": "3aaa0bd4",
   "metadata": {},
   "outputs": [],
   "source": [
    "d = {'a':10}"
   ]
  },
  {
   "cell_type": "code",
   "execution_count": 46,
   "id": "59b75b29",
   "metadata": {},
   "outputs": [
    {
     "data": {
      "text/plain": [
       "10"
      ]
     },
     "execution_count": 46,
     "metadata": {},
     "output_type": "execute_result"
    }
   ],
   "source": [
    "d['a']"
   ]
  },
  {
   "cell_type": "code",
   "execution_count": 47,
   "id": "9af8b413",
   "metadata": {},
   "outputs": [
    {
     "ename": "KeyError",
     "evalue": "'WRONG'",
     "output_type": "error",
     "traceback": [
      "\u001b[1;31m---------------------------------------------------------------------------\u001b[0m",
      "\u001b[1;31mKeyError\u001b[0m                                  Traceback (most recent call last)",
      "\u001b[1;32mC:\\Users\\ARMAN~1.ANS\\AppData\\Local\\Temp/ipykernel_27276/1483143541.py\u001b[0m in \u001b[0;36m<module>\u001b[1;34m\u001b[0m\n\u001b[1;32m----> 1\u001b[1;33m \u001b[0md\u001b[0m\u001b[1;33m[\u001b[0m\u001b[1;34m'WRONG'\u001b[0m\u001b[1;33m]\u001b[0m\u001b[1;33m\u001b[0m\u001b[1;33m\u001b[0m\u001b[0m\n\u001b[0m",
      "\u001b[1;31mKeyError\u001b[0m: 'WRONG'"
     ]
    }
   ],
   "source": [
    "d['WRONG']"
   ]
  },
  {
   "cell_type": "code",
   "execution_count": 49,
   "id": "a7fb57db",
   "metadata": {},
   "outputs": [],
   "source": [
    "## Create Default Dictionary"
   ]
  },
  {
   "cell_type": "code",
   "execution_count": 57,
   "id": "25815c05",
   "metadata": {},
   "outputs": [],
   "source": [
    "d = defaultdict(lambda : 0)"
   ]
  },
  {
   "cell_type": "code",
   "execution_count": 58,
   "id": "2f0643a7",
   "metadata": {},
   "outputs": [],
   "source": [
    "d['correct'] = 100"
   ]
  },
  {
   "cell_type": "code",
   "execution_count": 59,
   "id": "350e73bd",
   "metadata": {},
   "outputs": [
    {
     "data": {
      "text/plain": [
       "100"
      ]
     },
     "execution_count": 59,
     "metadata": {},
     "output_type": "execute_result"
    }
   ],
   "source": [
    "d['correct']"
   ]
  },
  {
   "cell_type": "code",
   "execution_count": 60,
   "id": "dac99005",
   "metadata": {},
   "outputs": [
    {
     "data": {
      "text/plain": [
       "0"
      ]
     },
     "execution_count": 60,
     "metadata": {},
     "output_type": "execute_result"
    }
   ],
   "source": [
    "d['WRONG KEY!']"
   ]
  },
  {
   "cell_type": "code",
   "execution_count": 61,
   "id": "b0fb80ce",
   "metadata": {},
   "outputs": [
    {
     "data": {
      "text/plain": [
       "defaultdict(<function __main__.<lambda>()>, {'correct': 100, 'WRONG KEY!': 0})"
      ]
     },
     "execution_count": 61,
     "metadata": {},
     "output_type": "execute_result"
    }
   ],
   "source": [
    "d"
   ]
  },
  {
   "cell_type": "code",
   "execution_count": 62,
   "id": "540fa34f",
   "metadata": {},
   "outputs": [],
   "source": [
    "## Tuple"
   ]
  },
  {
   "cell_type": "code",
   "execution_count": 96,
   "id": "1a2bd2ee",
   "metadata": {},
   "outputs": [],
   "source": [
    "mytuple = (10,20,30)"
   ]
  },
  {
   "cell_type": "code",
   "execution_count": 90,
   "id": "b56794bd",
   "metadata": {},
   "outputs": [
    {
     "data": {
      "text/plain": [
       "10"
      ]
     },
     "execution_count": 90,
     "metadata": {},
     "output_type": "execute_result"
    }
   ],
   "source": [
    "mytuple[0]"
   ]
  },
  {
   "cell_type": "code",
   "execution_count": 97,
   "id": "eabcc24b",
   "metadata": {},
   "outputs": [
    {
     "data": {
      "text/plain": [
       "1"
      ]
     },
     "execution_count": 97,
     "metadata": {},
     "output_type": "execute_result"
    }
   ],
   "source": [
    "mytuple.index(20)"
   ]
  },
  {
   "cell_type": "code",
   "execution_count": 98,
   "id": "6034a106",
   "metadata": {},
   "outputs": [
    {
     "data": {
      "text/plain": [
       "1"
      ]
     },
     "execution_count": 98,
     "metadata": {},
     "output_type": "execute_result"
    }
   ],
   "source": [
    "mytuple.count(10)"
   ]
  },
  {
   "cell_type": "code",
   "execution_count": 65,
   "id": "e8df36ae",
   "metadata": {},
   "outputs": [],
   "source": [
    "## Named Tuple"
   ]
  },
  {
   "cell_type": "code",
   "execution_count": 66,
   "id": "06c49530",
   "metadata": {},
   "outputs": [],
   "source": [
    "from collections import namedtuple"
   ]
  },
  {
   "cell_type": "code",
   "execution_count": 74,
   "id": "804c1dfd",
   "metadata": {},
   "outputs": [],
   "source": [
    "Dog = namedtuple('Dog',['age','breed','name'])"
   ]
  },
  {
   "cell_type": "code",
   "execution_count": 75,
   "id": "51d288e5",
   "metadata": {},
   "outputs": [],
   "source": [
    "sammy = Dog(age=5,breed='Husky',name='Sam')"
   ]
  },
  {
   "cell_type": "code",
   "execution_count": 76,
   "id": "8de42289",
   "metadata": {},
   "outputs": [
    {
     "data": {
      "text/plain": [
       "__main__.Dog"
      ]
     },
     "execution_count": 76,
     "metadata": {},
     "output_type": "execute_result"
    }
   ],
   "source": [
    "type(sammy)"
   ]
  },
  {
   "cell_type": "code",
   "execution_count": 77,
   "id": "4b36fa65",
   "metadata": {},
   "outputs": [
    {
     "data": {
      "text/plain": [
       "Dog(age=5, breed='Husky', name='Sam')"
      ]
     },
     "execution_count": 77,
     "metadata": {},
     "output_type": "execute_result"
    }
   ],
   "source": [
    "sammy"
   ]
  },
  {
   "cell_type": "code",
   "execution_count": 78,
   "id": "f7cedfdd",
   "metadata": {},
   "outputs": [
    {
     "data": {
      "text/plain": [
       "'Sam'"
      ]
     },
     "execution_count": 78,
     "metadata": {},
     "output_type": "execute_result"
    }
   ],
   "source": [
    "sammy.name"
   ]
  },
  {
   "cell_type": "code",
   "execution_count": 79,
   "id": "3b3a27c0",
   "metadata": {},
   "outputs": [
    {
     "data": {
      "text/plain": [
       "'Sam'"
      ]
     },
     "execution_count": 79,
     "metadata": {},
     "output_type": "execute_result"
    }
   ],
   "source": [
    "sammy[-1]"
   ]
  },
  {
   "cell_type": "code",
   "execution_count": 80,
   "id": "5b62ca7f",
   "metadata": {},
   "outputs": [
    {
     "data": {
      "text/plain": [
       "5"
      ]
     },
     "execution_count": 80,
     "metadata": {},
     "output_type": "execute_result"
    }
   ],
   "source": [
    "sammy.age"
   ]
  },
  {
   "cell_type": "code",
   "execution_count": 81,
   "id": "eead9f25",
   "metadata": {},
   "outputs": [
    {
     "data": {
      "text/plain": [
       "5"
      ]
     },
     "execution_count": 81,
     "metadata": {},
     "output_type": "execute_result"
    }
   ],
   "source": [
    "sammy[0]"
   ]
  },
  {
   "cell_type": "code",
   "execution_count": 82,
   "id": "cc72112b",
   "metadata": {},
   "outputs": [
    {
     "data": {
      "text/plain": [
       "'Husky'"
      ]
     },
     "execution_count": 82,
     "metadata": {},
     "output_type": "execute_result"
    }
   ],
   "source": [
    "sammy.breed"
   ]
  },
  {
   "cell_type": "code",
   "execution_count": 83,
   "id": "02e1883d",
   "metadata": {},
   "outputs": [
    {
     "data": {
      "text/plain": [
       "'Husky'"
      ]
     },
     "execution_count": 83,
     "metadata": {},
     "output_type": "execute_result"
    }
   ],
   "source": [
    "sammy[1]"
   ]
  },
  {
   "cell_type": "code",
   "execution_count": 99,
   "id": "028aa286",
   "metadata": {},
   "outputs": [],
   "source": [
    "## Practice - named tuple"
   ]
  },
  {
   "cell_type": "code",
   "execution_count": 109,
   "id": "cc22bfc5",
   "metadata": {},
   "outputs": [],
   "source": [
    "number = namedtuple('num',['num1','num2','num3','num4'])"
   ]
  },
  {
   "cell_type": "code",
   "execution_count": 111,
   "id": "4f7cf8d9",
   "metadata": {},
   "outputs": [],
   "source": [
    "out = number(num1=19,num2=20,num3=30,num4=40)"
   ]
  },
  {
   "cell_type": "code",
   "execution_count": 112,
   "id": "30f97759",
   "metadata": {},
   "outputs": [
    {
     "data": {
      "text/plain": [
       "num(num1=19, num2=20, num3=30, num4=40)"
      ]
     },
     "execution_count": 112,
     "metadata": {},
     "output_type": "execute_result"
    }
   ],
   "source": [
    "out"
   ]
  },
  {
   "cell_type": "code",
   "execution_count": 113,
   "id": "55b8604d",
   "metadata": {},
   "outputs": [
    {
     "data": {
      "text/plain": [
       "19"
      ]
     },
     "execution_count": 113,
     "metadata": {},
     "output_type": "execute_result"
    }
   ],
   "source": [
    "out[0]"
   ]
  },
  {
   "cell_type": "code",
   "execution_count": 119,
   "id": "ddf83d91",
   "metadata": {},
   "outputs": [
    {
     "data": {
      "text/plain": [
       "19"
      ]
     },
     "execution_count": 119,
     "metadata": {},
     "output_type": "execute_result"
    }
   ],
   "source": [
    "out.num1"
   ]
  },
  {
   "cell_type": "code",
   "execution_count": 120,
   "id": "8418ff2d",
   "metadata": {},
   "outputs": [
    {
     "data": {
      "text/plain": [
       "40"
      ]
     },
     "execution_count": 120,
     "metadata": {},
     "output_type": "execute_result"
    }
   ],
   "source": [
    "out[-1]"
   ]
  },
  {
   "cell_type": "code",
   "execution_count": 121,
   "id": "702a49e6",
   "metadata": {},
   "outputs": [
    {
     "data": {
      "text/plain": [
       "30"
      ]
     },
     "execution_count": 121,
     "metadata": {},
     "output_type": "execute_result"
    }
   ],
   "source": [
    "out.num3"
   ]
  },
  {
   "cell_type": "code",
   "execution_count": 116,
   "id": "4393675f",
   "metadata": {},
   "outputs": [
    {
     "data": {
      "text/plain": [
       "__main__.num"
      ]
     },
     "execution_count": 116,
     "metadata": {},
     "output_type": "execute_result"
    }
   ],
   "source": [
    "type(out)"
   ]
  },
  {
   "cell_type": "markdown",
   "id": "373477d9",
   "metadata": {},
   "source": [
    "**Shutil and OS modules**"
   ]
  },
  {
   "cell_type": "code",
   "execution_count": null,
   "id": "f589a1d5",
   "metadata": {},
   "outputs": [],
   "source": []
  }
 ],
 "metadata": {
  "kernelspec": {
   "display_name": "Python 3 (ipykernel)",
   "language": "python",
   "name": "python3"
  },
  "language_info": {
   "codemirror_mode": {
    "name": "ipython",
    "version": 3
   },
   "file_extension": ".py",
   "mimetype": "text/x-python",
   "name": "python",
   "nbconvert_exporter": "python",
   "pygments_lexer": "ipython3",
   "version": "3.9.7"
  }
 },
 "nbformat": 4,
 "nbformat_minor": 5
}
