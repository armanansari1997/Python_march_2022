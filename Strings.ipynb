{
 "cells": [
  {
   "cell_type": "code",
   "execution_count": 1,
   "id": "d6eeceab",
   "metadata": {},
   "outputs": [
    {
     "name": "stdout",
     "output_type": "stream",
     "text": [
      "Arman\n"
     ]
    }
   ],
   "source": [
    "name = \"Arman\"\n",
    "print(name)"
   ]
  },
  {
   "cell_type": "code",
   "execution_count": 2,
   "id": "c4788cf4",
   "metadata": {},
   "outputs": [],
   "source": [
    "reply = \"Hello, I'm Good and you?\"\n"
   ]
  },
  {
   "cell_type": "code",
   "execution_count": 3,
   "id": "9529963b",
   "metadata": {},
   "outputs": [
    {
     "data": {
      "text/plain": [
       "\"Hello, I'm Good and you?\""
      ]
     },
     "execution_count": 3,
     "metadata": {},
     "output_type": "execute_result"
    }
   ],
   "source": [
    "reply\n"
   ]
  },
  {
   "cell_type": "code",
   "execution_count": 4,
   "id": "6773725b",
   "metadata": {},
   "outputs": [
    {
     "name": "stdout",
     "output_type": "stream",
     "text": [
      "Hello, I'm Good and you?\n"
     ]
    }
   ],
   "source": [
    "print(reply)"
   ]
  },
  {
   "cell_type": "code",
   "execution_count": 6,
   "id": "ae4b7f86",
   "metadata": {},
   "outputs": [],
   "source": [
    "replyback = 'I\\'m good too'"
   ]
  },
  {
   "cell_type": "code",
   "execution_count": 7,
   "id": "f3b0d682",
   "metadata": {},
   "outputs": [
    {
     "name": "stdout",
     "output_type": "stream",
     "text": [
      "I'm good too\n"
     ]
    }
   ],
   "source": [
    "print(replyback)"
   ]
  },
  {
   "cell_type": "code",
   "execution_count": 8,
   "id": "053686e0",
   "metadata": {},
   "outputs": [
    {
     "data": {
      "text/plain": [
       "6"
      ]
     },
     "execution_count": 8,
     "metadata": {},
     "output_type": "execute_result"
    }
   ],
   "source": [
    "len(\"Hell o\")"
   ]
  },
  {
   "cell_type": "code",
   "execution_count": 31,
   "id": "9886f256",
   "metadata": {},
   "outputs": [],
   "source": [
    "mystring = \"abcdefghijk\""
   ]
  },
  {
   "cell_type": "code",
   "execution_count": 32,
   "id": "4f0fa224",
   "metadata": {},
   "outputs": [
    {
     "data": {
      "text/plain": [
       "'abcdefghijk'"
      ]
     },
     "execution_count": 32,
     "metadata": {},
     "output_type": "execute_result"
    }
   ],
   "source": [
    "mystring"
   ]
  },
  {
   "cell_type": "code",
   "execution_count": 33,
   "id": "736cbb34",
   "metadata": {},
   "outputs": [
    {
     "data": {
      "text/plain": [
       "'a'"
      ]
     },
     "execution_count": 33,
     "metadata": {},
     "output_type": "execute_result"
    }
   ],
   "source": [
    "mystring[0]"
   ]
  },
  {
   "cell_type": "code",
   "execution_count": 34,
   "id": "2be1e5e9",
   "metadata": {},
   "outputs": [
    {
     "data": {
      "text/plain": [
       "'k'"
      ]
     },
     "execution_count": 34,
     "metadata": {},
     "output_type": "execute_result"
    }
   ],
   "source": [
    "mystring[-1]"
   ]
  },
  {
   "cell_type": "code",
   "execution_count": 35,
   "id": "fbc56f9d",
   "metadata": {},
   "outputs": [
    {
     "data": {
      "text/plain": [
       "'abc'"
      ]
     },
     "execution_count": 35,
     "metadata": {},
     "output_type": "execute_result"
    }
   ],
   "source": [
    "mystring[0:3]"
   ]
  },
  {
   "cell_type": "code",
   "execution_count": 27,
   "id": "d2e2060f",
   "metadata": {},
   "outputs": [
    {
     "data": {
      "text/plain": [
       "'abc'"
      ]
     },
     "execution_count": 27,
     "metadata": {},
     "output_type": "execute_result"
    }
   ],
   "source": [
    "mystring[:3]"
   ]
  },
  {
   "cell_type": "code",
   "execution_count": 30,
   "id": "2ad33ca1",
   "metadata": {},
   "outputs": [
    {
     "data": {
      "text/plain": [
       "'def'"
      ]
     },
     "execution_count": 30,
     "metadata": {},
     "output_type": "execute_result"
    }
   ],
   "source": [
    "mystring[3:6]"
   ]
  },
  {
   "cell_type": "code",
   "execution_count": 36,
   "id": "6a272da6",
   "metadata": {},
   "outputs": [
    {
     "data": {
      "text/plain": [
       "'bc'"
      ]
     },
     "execution_count": 36,
     "metadata": {},
     "output_type": "execute_result"
    }
   ],
   "source": [
    "mystring[1:3]"
   ]
  },
  {
   "cell_type": "markdown",
   "id": "4d180e3d",
   "metadata": {},
   "source": [
    "Even Index Values"
   ]
  },
  {
   "cell_type": "code",
   "execution_count": 38,
   "id": "49b0a0c4",
   "metadata": {},
   "outputs": [
    {
     "data": {
      "text/plain": [
       "'acegik'"
      ]
     },
     "execution_count": 38,
     "metadata": {},
     "output_type": "execute_result"
    }
   ],
   "source": [
    "mystring[::2]"
   ]
  },
  {
   "cell_type": "markdown",
   "id": "cab35026",
   "metadata": {},
   "source": [
    "Odd Index Values"
   ]
  },
  {
   "cell_type": "code",
   "execution_count": 41,
   "id": "fccef832",
   "metadata": {},
   "outputs": [
    {
     "data": {
      "text/plain": [
       "'bdfhj'"
      ]
     },
     "execution_count": 41,
     "metadata": {},
     "output_type": "execute_result"
    }
   ],
   "source": [
    "mystring[1::2]"
   ]
  },
  {
   "cell_type": "markdown",
   "id": "ddee038e",
   "metadata": {},
   "source": [
    "**Reverse String in Python"
   ]
  },
  {
   "cell_type": "code",
   "execution_count": 44,
   "id": "ab679bb3",
   "metadata": {},
   "outputs": [
    {
     "data": {
      "text/plain": [
       "'kjihgfedcba'"
      ]
     },
     "execution_count": 44,
     "metadata": {},
     "output_type": "execute_result"
    }
   ],
   "source": [
    "mystring[::-1]"
   ]
  },
  {
   "cell_type": "code",
   "execution_count": 45,
   "id": "fdba5383",
   "metadata": {},
   "outputs": [
    {
     "data": {
      "text/plain": [
       "'ink'"
      ]
     },
     "execution_count": 45,
     "metadata": {},
     "output_type": "execute_result"
    }
   ],
   "source": [
    "\"tinker\"[1:4]"
   ]
  },
  {
   "cell_type": "code",
   "execution_count": 46,
   "id": "aab1e359",
   "metadata": {},
   "outputs": [
    {
     "data": {
      "text/plain": [
       "'r'"
      ]
     },
     "execution_count": 46,
     "metadata": {},
     "output_type": "execute_result"
    }
   ],
   "source": [
    "\"Hello World\"[8]"
   ]
  },
  {
   "cell_type": "code",
   "execution_count": null,
   "id": "2528f6a9",
   "metadata": {},
   "outputs": [],
   "source": []
  }
 ],
 "metadata": {
  "kernelspec": {
   "display_name": "Python 3 (ipykernel)",
   "language": "python",
   "name": "python3"
  },
  "language_info": {
   "codemirror_mode": {
    "name": "ipython",
    "version": 3
   },
   "file_extension": ".py",
   "mimetype": "text/x-python",
   "name": "python",
   "nbconvert_exporter": "python",
   "pygments_lexer": "ipython3",
   "version": "3.9.7"
  }
 },
 "nbformat": 4,
 "nbformat_minor": 5
}
