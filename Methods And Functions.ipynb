{
 "cells": [
  {
   "cell_type": "code",
   "execution_count": 1,
   "id": "5566951a",
   "metadata": {},
   "outputs": [],
   "source": [
    "def name_of_function(name):\n",
    "    '''\n",
    "        Documents of Function Defination\n",
    "    '''\n",
    "    print(f\"Hello {name}\")"
   ]
  },
  {
   "cell_type": "code",
   "execution_count": 2,
   "id": "c1627e96",
   "metadata": {},
   "outputs": [
    {
     "name": "stdout",
     "output_type": "stream",
     "text": [
      "Hello Arman\n"
     ]
    }
   ],
   "source": [
    "name_of_function(\"Arman\")"
   ]
  },
  {
   "cell_type": "code",
   "execution_count": 6,
   "id": "ec961274",
   "metadata": {},
   "outputs": [],
   "source": [
    "def add_function(num1, num2):\n",
    "    return num1 + num2"
   ]
  },
  {
   "cell_type": "code",
   "execution_count": 7,
   "id": "52f7e5e9",
   "metadata": {},
   "outputs": [
    {
     "name": "stdout",
     "output_type": "stream",
     "text": [
      "30\n"
     ]
    }
   ],
   "source": [
    "print(add_function(10,20))"
   ]
  },
  {
   "cell_type": "code",
   "execution_count": 8,
   "id": "edd4a426",
   "metadata": {},
   "outputs": [],
   "source": [
    "def say_hello(name):\n",
    "    print(f\"Hello {name}\")"
   ]
  },
  {
   "cell_type": "code",
   "execution_count": 9,
   "id": "21b9f672",
   "metadata": {},
   "outputs": [
    {
     "ename": "TypeError",
     "evalue": "say_hello() missing 1 required positional argument: 'name'",
     "output_type": "error",
     "traceback": [
      "\u001b[1;31m---------------------------------------------------------------------------\u001b[0m",
      "\u001b[1;31mTypeError\u001b[0m                                 Traceback (most recent call last)",
      "\u001b[1;32mC:\\Users\\ARMAN~1.ANS\\AppData\\Local\\Temp/ipykernel_19096/2814888808.py\u001b[0m in \u001b[0;36m<module>\u001b[1;34m\u001b[0m\n\u001b[1;32m----> 1\u001b[1;33m \u001b[0msay_hello\u001b[0m\u001b[1;33m(\u001b[0m\u001b[1;33m)\u001b[0m\u001b[1;33m\u001b[0m\u001b[1;33m\u001b[0m\u001b[0m\n\u001b[0m",
      "\u001b[1;31mTypeError\u001b[0m: say_hello() missing 1 required positional argument: 'name'"
     ]
    }
   ],
   "source": [
    "say_hello()"
   ]
  },
  {
   "cell_type": "code",
   "execution_count": 10,
   "id": "876822ed",
   "metadata": {},
   "outputs": [],
   "source": [
    "def say_hello(name = \"Default\"):\n",
    "    print(f\"Hello {name}\")"
   ]
  },
  {
   "cell_type": "code",
   "execution_count": 11,
   "id": "2ff1b301",
   "metadata": {},
   "outputs": [
    {
     "name": "stdout",
     "output_type": "stream",
     "text": [
      "Hello Default\n"
     ]
    }
   ],
   "source": [
    "say_hello()"
   ]
  },
  {
   "cell_type": "code",
   "execution_count": 12,
   "id": "0aee2943",
   "metadata": {},
   "outputs": [
    {
     "name": "stdout",
     "output_type": "stream",
     "text": [
      "Hello Arman\n"
     ]
    }
   ],
   "source": [
    "say_hello(\"Arman\")"
   ]
  },
  {
   "cell_type": "code",
   "execution_count": 16,
   "id": "87910a05",
   "metadata": {},
   "outputs": [],
   "source": [
    "def my_func(a, b):\n",
    "    print(a + b)\n",
    "    return a + b"
   ]
  },
  {
   "cell_type": "code",
   "execution_count": 17,
   "id": "542adf2f",
   "metadata": {},
   "outputs": [
    {
     "name": "stdout",
     "output_type": "stream",
     "text": [
      "30\n"
     ]
    }
   ],
   "source": [
    "result = my_func(10,20)"
   ]
  },
  {
   "cell_type": "code",
   "execution_count": 18,
   "id": "c14ed4b0",
   "metadata": {},
   "outputs": [
    {
     "data": {
      "text/plain": [
       "30"
      ]
     },
     "execution_count": 18,
     "metadata": {},
     "output_type": "execute_result"
    }
   ],
   "source": [
    "result"
   ]
  },
  {
   "cell_type": "code",
   "execution_count": 20,
   "id": "f4269063",
   "metadata": {},
   "outputs": [],
   "source": [
    "def sum_numbers(num1, num2):\n",
    "    return num1 + num2"
   ]
  },
  {
   "cell_type": "code",
   "execution_count": 21,
   "id": "4c7106c7",
   "metadata": {},
   "outputs": [
    {
     "data": {
      "text/plain": [
       "34"
      ]
     },
     "execution_count": 21,
     "metadata": {},
     "output_type": "execute_result"
    }
   ],
   "source": [
    "sum_numbers(10,24)"
   ]
  },
  {
   "cell_type": "code",
   "execution_count": 23,
   "id": "ead94020",
   "metadata": {},
   "outputs": [
    {
     "data": {
      "text/plain": [
       "'1024'"
      ]
     },
     "execution_count": 23,
     "metadata": {},
     "output_type": "execute_result"
    }
   ],
   "source": [
    "sum_numbers('10','24')"
   ]
  },
  {
   "cell_type": "markdown",
   "id": "0d730841",
   "metadata": {},
   "source": [
    "**Logic with python functions**"
   ]
  },
  {
   "cell_type": "code",
   "execution_count": 24,
   "id": "747bf027",
   "metadata": {},
   "outputs": [
    {
     "data": {
      "text/plain": [
       "0"
      ]
     },
     "execution_count": 24,
     "metadata": {},
     "output_type": "execute_result"
    }
   ],
   "source": [
    "2 % 2"
   ]
  },
  {
   "cell_type": "code",
   "execution_count": 25,
   "id": "20123e7c",
   "metadata": {},
   "outputs": [
    {
     "data": {
      "text/plain": [
       "1"
      ]
     },
     "execution_count": 25,
     "metadata": {},
     "output_type": "execute_result"
    }
   ],
   "source": [
    "3 % 2"
   ]
  },
  {
   "cell_type": "code",
   "execution_count": 26,
   "id": "de820a50",
   "metadata": {},
   "outputs": [
    {
     "data": {
      "text/plain": [
       "1"
      ]
     },
     "execution_count": 26,
     "metadata": {},
     "output_type": "execute_result"
    }
   ],
   "source": [
    "41 % 40"
   ]
  },
  {
   "cell_type": "code",
   "execution_count": 27,
   "id": "aafb29ca",
   "metadata": {},
   "outputs": [
    {
     "data": {
      "text/plain": [
       "True"
      ]
     },
     "execution_count": 27,
     "metadata": {},
     "output_type": "execute_result"
    }
   ],
   "source": [
    "20 % 2 == 0"
   ]
  },
  {
   "cell_type": "code",
   "execution_count": 29,
   "id": "f65e2064",
   "metadata": {},
   "outputs": [
    {
     "data": {
      "text/plain": [
       "False"
      ]
     },
     "execution_count": 29,
     "metadata": {},
     "output_type": "execute_result"
    }
   ],
   "source": [
    "21 % 2 == 0"
   ]
  },
  {
   "cell_type": "code",
   "execution_count": 30,
   "id": "79642689",
   "metadata": {},
   "outputs": [],
   "source": [
    "def even_check(num):\n",
    "    return num % 2 == 0"
   ]
  },
  {
   "cell_type": "code",
   "execution_count": 31,
   "id": "ccd7d9b6",
   "metadata": {},
   "outputs": [
    {
     "data": {
      "text/plain": [
       "True"
      ]
     },
     "execution_count": 31,
     "metadata": {},
     "output_type": "execute_result"
    }
   ],
   "source": [
    "even_check(20)"
   ]
  },
  {
   "cell_type": "code",
   "execution_count": 32,
   "id": "5abfc8d0",
   "metadata": {},
   "outputs": [
    {
     "data": {
      "text/plain": [
       "False"
      ]
     },
     "execution_count": 32,
     "metadata": {},
     "output_type": "execute_result"
    }
   ],
   "source": [
    "even_check(21)"
   ]
  },
  {
   "cell_type": "code",
   "execution_count": 33,
   "id": "9856851c",
   "metadata": {},
   "outputs": [],
   "source": [
    "list1 = [10,30,23,45,60,75,90]"
   ]
  },
  {
   "cell_type": "code",
   "execution_count": 35,
   "id": "4723f869",
   "metadata": {},
   "outputs": [
    {
     "name": "stdout",
     "output_type": "stream",
     "text": [
      "True\n",
      "True\n",
      "False\n",
      "False\n",
      "True\n",
      "False\n",
      "True\n"
     ]
    }
   ],
   "source": [
    "for x in list1:\n",
    "    print(even_check(x))"
   ]
  },
  {
   "cell_type": "code",
   "execution_count": 41,
   "id": "c56465f6",
   "metadata": {},
   "outputs": [],
   "source": [
    "def check_even_list(num_list):\n",
    "    for num in num_list:\n",
    "        if num % 2 == 0:\n",
    "            return True\n",
    "        else:\n",
    "            pass\n",
    "    return False"
   ]
  },
  {
   "cell_type": "code",
   "execution_count": 42,
   "id": "0d532b1b",
   "metadata": {},
   "outputs": [
    {
     "data": {
      "text/plain": [
       "True"
      ]
     },
     "execution_count": 42,
     "metadata": {},
     "output_type": "execute_result"
    }
   ],
   "source": [
    "check_even_list([1,2,3])"
   ]
  },
  {
   "cell_type": "code",
   "execution_count": 43,
   "id": "372409f3",
   "metadata": {},
   "outputs": [
    {
     "data": {
      "text/plain": [
       "False"
      ]
     },
     "execution_count": 43,
     "metadata": {},
     "output_type": "execute_result"
    }
   ],
   "source": [
    "check_even_list([1,3,5])"
   ]
  },
  {
   "cell_type": "code",
   "execution_count": 44,
   "id": "04545776",
   "metadata": {},
   "outputs": [
    {
     "data": {
      "text/plain": [
       "True"
      ]
     },
     "execution_count": 44,
     "metadata": {},
     "output_type": "execute_result"
    }
   ],
   "source": [
    "check_even_list([1,1,1,2])"
   ]
  },
  {
   "cell_type": "code",
   "execution_count": 45,
   "id": "19b2fa59",
   "metadata": {},
   "outputs": [
    {
     "data": {
      "text/plain": [
       "True"
      ]
     },
     "execution_count": 45,
     "metadata": {},
     "output_type": "execute_result"
    }
   ],
   "source": [
    "check_even_list([2,1,1,3])"
   ]
  },
  {
   "cell_type": "code",
   "execution_count": 56,
   "id": "790df1ea",
   "metadata": {},
   "outputs": [],
   "source": [
    "def print_even_numbers(num_list):\n",
    "    even_numbers = []\n",
    "    for num in num_list:\n",
    "        if num % 2 == 0:\n",
    "            even_numbers.append(num)\n",
    "        else:\n",
    "            pass\n",
    "    if len(even_numbers) >= 1:\n",
    "        return even_numbers\n",
    "    else:\n",
    "        return \"even number not found in list\""
   ]
  },
  {
   "cell_type": "code",
   "execution_count": 54,
   "id": "81e0799c",
   "metadata": {},
   "outputs": [
    {
     "data": {
      "text/plain": [
       "[2, 6, 8]"
      ]
     },
     "execution_count": 54,
     "metadata": {},
     "output_type": "execute_result"
    }
   ],
   "source": [
    "print_even_numbers([1,2,3,6,7,8])"
   ]
  },
  {
   "cell_type": "code",
   "execution_count": 55,
   "id": "04b7fd7d",
   "metadata": {},
   "outputs": [
    {
     "data": {
      "text/plain": [
       "'even number not found in list'"
      ]
     },
     "execution_count": 55,
     "metadata": {},
     "output_type": "execute_result"
    }
   ],
   "source": [
    "print_even_numbers([1,1,1])"
   ]
  },
  {
   "cell_type": "markdown",
   "id": "b8997e4a",
   "metadata": {},
   "source": [
    "**Tuple Unpacking with python Functions**"
   ]
  },
  {
   "cell_type": "code",
   "execution_count": 57,
   "id": "7beae549",
   "metadata": {},
   "outputs": [],
   "source": [
    "stock_prices = [('Apple',200),('Good',400),('MSFT',100)]"
   ]
  },
  {
   "cell_type": "code",
   "execution_count": 58,
   "id": "6154d85a",
   "metadata": {},
   "outputs": [
    {
     "name": "stdout",
     "output_type": "stream",
     "text": [
      "('Apple', 200)\n",
      "('Good', 400)\n",
      "('MSFT', 100)\n"
     ]
    }
   ],
   "source": [
    "for item in stock_prices:\n",
    "    print(item)"
   ]
  },
  {
   "cell_type": "code",
   "execution_count": 59,
   "id": "6f1532ea",
   "metadata": {},
   "outputs": [
    {
     "name": "stdout",
     "output_type": "stream",
     "text": [
      "Apple\n",
      "Good\n",
      "MSFT\n"
     ]
    }
   ],
   "source": [
    "for ticker,price in stock_prices:\n",
    "    print(ticker)"
   ]
  },
  {
   "cell_type": "code",
   "execution_count": 60,
   "id": "64f2972b",
   "metadata": {},
   "outputs": [
    {
     "name": "stdout",
     "output_type": "stream",
     "text": [
      "200\n",
      "400\n",
      "100\n"
     ]
    }
   ],
   "source": [
    "for ticker,price in stock_prices:\n",
    "    print(price)"
   ]
  },
  {
   "cell_type": "code",
   "execution_count": 62,
   "id": "3265198f",
   "metadata": {},
   "outputs": [
    {
     "name": "stdout",
     "output_type": "stream",
     "text": [
      "220.0\n",
      "440.0\n",
      "110.0\n"
     ]
    }
   ],
   "source": [
    "for ticker,price in stock_prices:\n",
    "    print(price + (0.1*price))"
   ]
  },
  {
   "cell_type": "code",
   "execution_count": 67,
   "id": "3c039d43",
   "metadata": {},
   "outputs": [],
   "source": [
    "work_hours = [('Abby',100),('Billy',4000),('Cassie',800)]"
   ]
  },
  {
   "cell_type": "code",
   "execution_count": 68,
   "id": "6f48502c",
   "metadata": {},
   "outputs": [],
   "source": [
    "def employee_check(work_hours):\n",
    "    current_max = 0\n",
    "    employee_of_month = ''\n",
    "    \n",
    "    for employee,hours in work_hours:\n",
    "        if hours > current_max:\n",
    "            current_max = hours\n",
    "            employee_of_month = employee\n",
    "        else:\n",
    "            pass\n",
    "    \n",
    "    # Return \n",
    "    return (employee_of_month,current_max)"
   ]
  },
  {
   "cell_type": "code",
   "execution_count": 69,
   "id": "9520f129",
   "metadata": {},
   "outputs": [
    {
     "data": {
      "text/plain": [
       "('Billy', 4000)"
      ]
     },
     "execution_count": 69,
     "metadata": {},
     "output_type": "execute_result"
    }
   ],
   "source": [
    "employee_check(work_hours)"
   ]
  },
  {
   "cell_type": "code",
   "execution_count": 70,
   "id": "e5c4125e",
   "metadata": {},
   "outputs": [],
   "source": [
    "name, work_hours = employee_check(work_hours)"
   ]
  },
  {
   "cell_type": "code",
   "execution_count": 71,
   "id": "699726bf",
   "metadata": {},
   "outputs": [
    {
     "data": {
      "text/plain": [
       "'Billy'"
      ]
     },
     "execution_count": 71,
     "metadata": {},
     "output_type": "execute_result"
    }
   ],
   "source": [
    "name"
   ]
  },
  {
   "cell_type": "code",
   "execution_count": 73,
   "id": "50e84e58",
   "metadata": {},
   "outputs": [
    {
     "data": {
      "text/plain": [
       "4000"
      ]
     },
     "execution_count": 73,
     "metadata": {},
     "output_type": "execute_result"
    }
   ],
   "source": [
    "work_hours"
   ]
  },
  {
   "cell_type": "markdown",
   "id": "f912df3f",
   "metadata": {},
   "source": [
    "**Interaction between Python Functions**"
   ]
  },
  {
   "cell_type": "code",
   "execution_count": 84,
   "id": "e9061cb9",
   "metadata": {},
   "outputs": [],
   "source": [
    "example = [1,2,3,4,5,6,7]"
   ]
  },
  {
   "cell_type": "code",
   "execution_count": 85,
   "id": "e739c771",
   "metadata": {},
   "outputs": [],
   "source": [
    "from random import shuffle"
   ]
  },
  {
   "cell_type": "code",
   "execution_count": 90,
   "id": "32d361c0",
   "metadata": {},
   "outputs": [
    {
     "name": "stdout",
     "output_type": "stream",
     "text": [
      "None\n"
     ]
    }
   ],
   "source": [
    "result = shuffle(example)\n",
    "print(result)"
   ]
  },
  {
   "cell_type": "code",
   "execution_count": 88,
   "id": "c1f1f25f",
   "metadata": {},
   "outputs": [
    {
     "data": {
      "text/plain": [
       "NoneType"
      ]
     },
     "execution_count": 88,
     "metadata": {},
     "output_type": "execute_result"
    }
   ],
   "source": [
    "type(result)"
   ]
  },
  {
   "cell_type": "code",
   "execution_count": 91,
   "id": "4e290bf9",
   "metadata": {},
   "outputs": [],
   "source": [
    "def shuffle_list(mylist):\n",
    "    shuffle(mylist)\n",
    "    return mylist"
   ]
  },
  {
   "cell_type": "code",
   "execution_count": 92,
   "id": "fad56121",
   "metadata": {},
   "outputs": [],
   "source": [
    "result = shuffle_list(example)"
   ]
  },
  {
   "cell_type": "code",
   "execution_count": 93,
   "id": "dbf7e2ec",
   "metadata": {},
   "outputs": [
    {
     "data": {
      "text/plain": [
       "[6, 2, 4, 3, 5, 1, 7]"
      ]
     },
     "execution_count": 93,
     "metadata": {},
     "output_type": "execute_result"
    }
   ],
   "source": [
    "result"
   ]
  },
  {
   "cell_type": "code",
   "execution_count": 94,
   "id": "e412c4cf",
   "metadata": {},
   "outputs": [],
   "source": [
    "mylist = ['', '0', '']"
   ]
  },
  {
   "cell_type": "code",
   "execution_count": 96,
   "id": "4ae1469f",
   "metadata": {},
   "outputs": [
    {
     "data": {
      "text/plain": [
       "['', '', '0']"
      ]
     },
     "execution_count": 96,
     "metadata": {},
     "output_type": "execute_result"
    }
   ],
   "source": [
    "shuffle_list(mylist)"
   ]
  },
  {
   "cell_type": "code",
   "execution_count": 98,
   "id": "846baf98",
   "metadata": {},
   "outputs": [],
   "source": [
    "def player_guess():\n",
    "    \n",
    "    guess = ''\n",
    "    while guess not in ['0','1','2']:\n",
    "        guess = input(\"Pick a number : 0, 1 or 2\")\n",
    "    \n",
    "    return int(guess)\n"
   ]
  },
  {
   "cell_type": "code",
   "execution_count": 103,
   "id": "44721f67",
   "metadata": {},
   "outputs": [
    {
     "name": "stdout",
     "output_type": "stream",
     "text": [
      "Pick a number : 0, 1 or 21\n"
     ]
    },
    {
     "data": {
      "text/plain": [
       "1"
      ]
     },
     "execution_count": 103,
     "metadata": {},
     "output_type": "execute_result"
    }
   ],
   "source": [
    "player_guess()"
   ]
  },
  {
   "cell_type": "code",
   "execution_count": 104,
   "id": "fb6328f7",
   "metadata": {},
   "outputs": [
    {
     "name": "stdout",
     "output_type": "stream",
     "text": [
      "Pick a number : 0, 1 or 22\n"
     ]
    }
   ],
   "source": [
    "myguess = player_guess()"
   ]
  },
  {
   "cell_type": "code",
   "execution_count": 105,
   "id": "e3e57b95",
   "metadata": {},
   "outputs": [
    {
     "data": {
      "text/plain": [
       "2"
      ]
     },
     "execution_count": 105,
     "metadata": {},
     "output_type": "execute_result"
    }
   ],
   "source": [
    "myguess"
   ]
  },
  {
   "cell_type": "code",
   "execution_count": 106,
   "id": "75d85b4e",
   "metadata": {},
   "outputs": [],
   "source": [
    "def check_guess(mylist,guess):\n",
    "    if mylist[guess] == '0':\n",
    "        print(\"CORRECT!!!\")\n",
    "    else:\n",
    "        print(\"Wrong Guess!!!\")\n",
    "        print(mylist)"
   ]
  },
  {
   "cell_type": "code",
   "execution_count": 111,
   "id": "fd492c26",
   "metadata": {},
   "outputs": [
    {
     "name": "stdout",
     "output_type": "stream",
     "text": [
      "Pick a number : 0, 1 or 29\n",
      "Pick a number : 0, 1 or 20\n",
      "CORRECT!!!\n"
     ]
    }
   ],
   "source": [
    "# INITAL LIST\n",
    "mylist = ['','0','']\n",
    "\n",
    "# SHUFFLE LIST\n",
    "mixedup_list = shuffle_list(mylist)\n",
    "\n",
    "# USER GUESS\n",
    "guess = player_guess()\n",
    "\n",
    "#CHECK GUESS\n",
    "check_guess(mixedup_list,guess)"
   ]
  },
  {
   "cell_type": "markdown",
   "id": "3971c1bd",
   "metadata": {},
   "source": [
    "**\\*args and **kwargs in python**"
   ]
  },
  {
   "cell_type": "code",
   "execution_count": 112,
   "id": "4e7a16c5",
   "metadata": {},
   "outputs": [],
   "source": [
    "def myfunc(a,b,c):\n",
    "    print(a,b,c)"
   ]
  },
  {
   "cell_type": "code",
   "execution_count": 113,
   "id": "40ee2734",
   "metadata": {},
   "outputs": [
    {
     "name": "stdout",
     "output_type": "stream",
     "text": [
      "10 20 30\n"
     ]
    }
   ],
   "source": [
    "myfunc(10,20,30)"
   ]
  },
  {
   "cell_type": "code",
   "execution_count": 114,
   "id": "fe0928b4",
   "metadata": {},
   "outputs": [
    {
     "ename": "TypeError",
     "evalue": "myfunc() takes 3 positional arguments but 4 were given",
     "output_type": "error",
     "traceback": [
      "\u001b[1;31m---------------------------------------------------------------------------\u001b[0m",
      "\u001b[1;31mTypeError\u001b[0m                                 Traceback (most recent call last)",
      "\u001b[1;32mC:\\Users\\ARMAN~1.ANS\\AppData\\Local\\Temp/ipykernel_19096/4055659293.py\u001b[0m in \u001b[0;36m<module>\u001b[1;34m\u001b[0m\n\u001b[1;32m----> 1\u001b[1;33m \u001b[0mmyfunc\u001b[0m\u001b[1;33m(\u001b[0m\u001b[1;36m10\u001b[0m\u001b[1;33m,\u001b[0m\u001b[1;36m20\u001b[0m\u001b[1;33m,\u001b[0m\u001b[1;36m30\u001b[0m\u001b[1;33m,\u001b[0m\u001b[1;36m40\u001b[0m\u001b[1;33m)\u001b[0m\u001b[1;33m\u001b[0m\u001b[1;33m\u001b[0m\u001b[0m\n\u001b[0m",
      "\u001b[1;31mTypeError\u001b[0m: myfunc() takes 3 positional arguments but 4 were given"
     ]
    }
   ],
   "source": [
    "myfunc(10,20,30,40)"
   ]
  },
  {
   "cell_type": "code",
   "execution_count": 115,
   "id": "977e4f87",
   "metadata": {},
   "outputs": [],
   "source": [
    "def myfunc(*args):\n",
    "    print(args)"
   ]
  },
  {
   "cell_type": "code",
   "execution_count": 116,
   "id": "a6f76d77",
   "metadata": {},
   "outputs": [
    {
     "name": "stdout",
     "output_type": "stream",
     "text": [
      "(10, 20, 30, 40, 50)\n"
     ]
    }
   ],
   "source": [
    "myfunc(10,20,30,40,50)"
   ]
  },
  {
   "cell_type": "code",
   "execution_count": 117,
   "id": "f26f95e4",
   "metadata": {},
   "outputs": [],
   "source": [
    "def myfunc(*args):\n",
    "    for item in args:\n",
    "        print(item)"
   ]
  },
  {
   "cell_type": "code",
   "execution_count": 118,
   "id": "d5c200e1",
   "metadata": {},
   "outputs": [
    {
     "name": "stdout",
     "output_type": "stream",
     "text": [
      "1\n",
      "2\n",
      "3\n",
      "4\n",
      "5\n"
     ]
    }
   ],
   "source": [
    "myfunc(1,2,3,4,5)"
   ]
  },
  {
   "cell_type": "code",
   "execution_count": 121,
   "id": "73cddd0d",
   "metadata": {},
   "outputs": [],
   "source": [
    "def myfunc(**kwargs):\n",
    "    print(kwargs)\n",
    "    if 'fruit' in kwargs:\n",
    "        print(\"My fruit of choice is {}\".format(kwargs['fruit']))\n",
    "    else:\n",
    "        print(\"I din't find any fruit\")"
   ]
  },
  {
   "cell_type": "code",
   "execution_count": 122,
   "id": "108d0bbe",
   "metadata": {},
   "outputs": [
    {
     "name": "stdout",
     "output_type": "stream",
     "text": [
      "{'fruit': 'apple', 'veggie': 'lettuce'}\n",
      "My fruit of choice is apple\n"
     ]
    }
   ],
   "source": [
    "myfunc(fruit = 'apple', veggie = 'lettuce')"
   ]
  },
  {
   "cell_type": "code",
   "execution_count": 123,
   "id": "5d1c9a41",
   "metadata": {},
   "outputs": [],
   "source": [
    "def myfunc(*args, **kwargs):\n",
    "    print(args)\n",
    "    print(kwargs)\n",
    "    print(\"I would like {} {} \".format(args[0],kwargs['food']))"
   ]
  },
  {
   "cell_type": "code",
   "execution_count": 124,
   "id": "2406a0b9",
   "metadata": {},
   "outputs": [
    {
     "name": "stdout",
     "output_type": "stream",
     "text": [
      "(10, 20, 30)\n",
      "{'fruit': 'orange', 'animal': 'dog', 'food': 'egg'}\n",
      "I would like 10 egg \n"
     ]
    }
   ],
   "source": [
    "myfunc(10,20,30,fruit='orange', animal='dog', food = 'egg')"
   ]
  },
  {
   "cell_type": "code",
   "execution_count": 9,
   "id": "0b907579",
   "metadata": {},
   "outputs": [],
   "source": [
    "def myfunc(inp):\n",
    "    inp = inp.lower()  \n",
    "    res = ''\n",
    "    for x in inp:\n",
    "        print(x)"
   ]
  },
  {
   "cell_type": "code",
   "execution_count": 10,
   "id": "38fcb528",
   "metadata": {},
   "outputs": [
    {
     "name": "stdout",
     "output_type": "stream",
     "text": [
      "h\n",
      "e\n",
      "l\n",
      "l\n",
      "o\n",
      "o\n"
     ]
    }
   ],
   "source": [
    "myfunc(\"HElloO\")"
   ]
  },
  {
   "cell_type": "code",
   "execution_count": 14,
   "id": "f935213d",
   "metadata": {},
   "outputs": [],
   "source": [
    "def myfunc(inp):\n",
    "    inp = inp.lower()  \n",
    "    res = ''\n",
    "    for x in range(len(inp)):\n",
    "        if x % 2 == 0:\n",
    "            res += str(inp[x] - 32)\n",
    "        else:\n",
    "            res += inp[x]\n",
    "    \n",
    "    return res"
   ]
  },
  {
   "cell_type": "code",
   "execution_count": 15,
   "id": "9f200700",
   "metadata": {},
   "outputs": [
    {
     "ename": "TypeError",
     "evalue": "unsupported operand type(s) for -: 'str' and 'int'",
     "output_type": "error",
     "traceback": [
      "\u001b[1;31m---------------------------------------------------------------------------\u001b[0m",
      "\u001b[1;31mTypeError\u001b[0m                                 Traceback (most recent call last)",
      "\u001b[1;32mC:\\Users\\ARMAN~1.ANS\\AppData\\Local\\Temp/ipykernel_20856/3115286503.py\u001b[0m in \u001b[0;36m<module>\u001b[1;34m\u001b[0m\n\u001b[1;32m----> 1\u001b[1;33m \u001b[0mmyfunc\u001b[0m\u001b[1;33m(\u001b[0m\u001b[1;34m\"HELoo\"\u001b[0m\u001b[1;33m)\u001b[0m\u001b[1;33m\u001b[0m\u001b[1;33m\u001b[0m\u001b[0m\n\u001b[0m",
      "\u001b[1;32mC:\\Users\\ARMAN~1.ANS\\AppData\\Local\\Temp/ipykernel_20856/1724854255.py\u001b[0m in \u001b[0;36mmyfunc\u001b[1;34m(inp)\u001b[0m\n\u001b[0;32m      4\u001b[0m     \u001b[1;32mfor\u001b[0m \u001b[0mx\u001b[0m \u001b[1;32min\u001b[0m \u001b[0mrange\u001b[0m\u001b[1;33m(\u001b[0m\u001b[0mlen\u001b[0m\u001b[1;33m(\u001b[0m\u001b[0minp\u001b[0m\u001b[1;33m)\u001b[0m\u001b[1;33m)\u001b[0m\u001b[1;33m:\u001b[0m\u001b[1;33m\u001b[0m\u001b[1;33m\u001b[0m\u001b[0m\n\u001b[0;32m      5\u001b[0m         \u001b[1;32mif\u001b[0m \u001b[0mx\u001b[0m \u001b[1;33m%\u001b[0m \u001b[1;36m2\u001b[0m \u001b[1;33m==\u001b[0m \u001b[1;36m0\u001b[0m\u001b[1;33m:\u001b[0m\u001b[1;33m\u001b[0m\u001b[1;33m\u001b[0m\u001b[0m\n\u001b[1;32m----> 6\u001b[1;33m             \u001b[0mres\u001b[0m \u001b[1;33m+=\u001b[0m \u001b[0mstr\u001b[0m\u001b[1;33m(\u001b[0m\u001b[0minp\u001b[0m\u001b[1;33m[\u001b[0m\u001b[0mx\u001b[0m\u001b[1;33m]\u001b[0m \u001b[1;33m-\u001b[0m \u001b[1;36m32\u001b[0m\u001b[1;33m)\u001b[0m\u001b[1;33m\u001b[0m\u001b[1;33m\u001b[0m\u001b[0m\n\u001b[0m\u001b[0;32m      7\u001b[0m         \u001b[1;32melse\u001b[0m\u001b[1;33m:\u001b[0m\u001b[1;33m\u001b[0m\u001b[1;33m\u001b[0m\u001b[0m\n\u001b[0;32m      8\u001b[0m             \u001b[0mres\u001b[0m \u001b[1;33m+=\u001b[0m \u001b[0minp\u001b[0m\u001b[1;33m[\u001b[0m\u001b[0mx\u001b[0m\u001b[1;33m]\u001b[0m\u001b[1;33m\u001b[0m\u001b[1;33m\u001b[0m\u001b[0m\n",
      "\u001b[1;31mTypeError\u001b[0m: unsupported operand type(s) for -: 'str' and 'int'"
     ]
    }
   ],
   "source": [
    "myfunc(\"HELoo\")"
   ]
  },
  {
   "cell_type": "code",
   "execution_count": 16,
   "id": "42db97b3",
   "metadata": {},
   "outputs": [],
   "source": [
    "def myfunc(inp):\n",
    "    inp = inp.swapcase()\n",
    "    return inp"
   ]
  },
  {
   "cell_type": "code",
   "execution_count": 17,
   "id": "e468c4ef",
   "metadata": {},
   "outputs": [
    {
     "data": {
      "text/plain": [
       "'aBCDEFGH'"
      ]
     },
     "execution_count": 17,
     "metadata": {},
     "output_type": "execute_result"
    }
   ],
   "source": [
    "myfunc(\"Abcdefgh\")"
   ]
  },
  {
   "cell_type": "code",
   "execution_count": 18,
   "id": "20db1cd7",
   "metadata": {},
   "outputs": [
    {
     "data": {
      "text/plain": [
       "'ABCDF'"
      ]
     },
     "execution_count": 18,
     "metadata": {},
     "output_type": "execute_result"
    }
   ],
   "source": [
    "\"abcdf\".upper()"
   ]
  },
  {
   "cell_type": "code",
   "execution_count": 19,
   "id": "67119a11",
   "metadata": {},
   "outputs": [
    {
     "data": {
      "text/plain": [
       "'abcdef'"
      ]
     },
     "execution_count": 19,
     "metadata": {},
     "output_type": "execute_result"
    }
   ],
   "source": [
    "\"ABCDEF\".lower()"
   ]
  },
  {
   "cell_type": "code",
   "execution_count": 20,
   "id": "4a59888e",
   "metadata": {},
   "outputs": [
    {
     "data": {
      "text/plain": [
       "'My Name Is Arman'"
      ]
     },
     "execution_count": 20,
     "metadata": {},
     "output_type": "execute_result"
    }
   ],
   "source": [
    "\"my name is arMan\".title()"
   ]
  },
  {
   "cell_type": "code",
   "execution_count": 22,
   "id": "b24fd8c5",
   "metadata": {},
   "outputs": [
    {
     "data": {
      "text/plain": [
       "'ARMaN'"
      ]
     },
     "execution_count": 22,
     "metadata": {},
     "output_type": "execute_result"
    }
   ],
   "source": [
    "\"armAn\".swapcase()"
   ]
  },
  {
   "cell_type": "code",
   "execution_count": 23,
   "id": "acbf13f2",
   "metadata": {},
   "outputs": [
    {
     "data": {
      "text/plain": [
       "True"
      ]
     },
     "execution_count": 23,
     "metadata": {},
     "output_type": "execute_result"
    }
   ],
   "source": [
    "\"arman\".startswith('a')"
   ]
  },
  {
   "cell_type": "code",
   "execution_count": 25,
   "id": "d653d3fd",
   "metadata": {},
   "outputs": [
    {
     "data": {
      "text/plain": [
       "True"
      ]
     },
     "execution_count": 25,
     "metadata": {},
     "output_type": "execute_result"
    }
   ],
   "source": [
    "\"arman\".endswith('n')"
   ]
  },
  {
   "cell_type": "code",
   "execution_count": 26,
   "id": "c86403ff",
   "metadata": {},
   "outputs": [
    {
     "data": {
      "text/plain": [
       "False"
      ]
     },
     "execution_count": 26,
     "metadata": {},
     "output_type": "execute_result"
    }
   ],
   "source": [
    "\"arman\".endswith('z')"
   ]
  },
  {
   "cell_type": "markdown",
   "id": "0573e393",
   "metadata": {},
   "source": [
    "Find index of String"
   ]
  },
  {
   "cell_type": "code",
   "execution_count": 28,
   "id": "ce31d624",
   "metadata": {},
   "outputs": [
    {
     "data": {
      "text/plain": [
       "2"
      ]
     },
     "execution_count": 28,
     "metadata": {},
     "output_type": "execute_result"
    }
   ],
   "source": [
    "\"Sachin is a great cricketer\".find(\"chin\")"
   ]
  },
  {
   "cell_type": "code",
   "execution_count": 31,
   "id": "00107d7f",
   "metadata": {},
   "outputs": [
    {
     "data": {
      "text/plain": [
       "True"
      ]
     },
     "execution_count": 31,
     "metadata": {},
     "output_type": "execute_result"
    }
   ],
   "source": [
    "\"Arman123\".isalnum()"
   ]
  },
  {
   "cell_type": "code",
   "execution_count": 33,
   "id": "83da6b4f",
   "metadata": {},
   "outputs": [
    {
     "data": {
      "text/plain": [
       "True"
      ]
     },
     "execution_count": 33,
     "metadata": {},
     "output_type": "execute_result"
    }
   ],
   "source": [
    "\"Arman\".isalnum()"
   ]
  },
  {
   "cell_type": "code",
   "execution_count": 36,
   "id": "4453948c",
   "metadata": {},
   "outputs": [
    {
     "data": {
      "text/plain": [
       "'Dhoni is great'"
      ]
     },
     "execution_count": 36,
     "metadata": {},
     "output_type": "execute_result"
    }
   ],
   "source": [
    "\"Sachin is great\".replace(\"Sachin\",\"Dhoni\")"
   ]
  },
  {
   "cell_type": "code",
   "execution_count": 40,
   "id": "0ea25c2b",
   "metadata": {},
   "outputs": [
    {
     "data": {
      "text/plain": [
       "'n'"
      ]
     },
     "execution_count": 40,
     "metadata": {},
     "output_type": "execute_result"
    }
   ],
   "source": [
    "max(\"Sachin\")"
   ]
  },
  {
   "cell_type": "code",
   "execution_count": 38,
   "id": "2cf9ddbd",
   "metadata": {},
   "outputs": [
    {
     "data": {
      "text/plain": [
       "'S'"
      ]
     },
     "execution_count": 38,
     "metadata": {},
     "output_type": "execute_result"
    }
   ],
   "source": [
    "min(\"Sacin\")"
   ]
  },
  {
   "cell_type": "code",
   "execution_count": 41,
   "id": "e4ad4dec",
   "metadata": {},
   "outputs": [
    {
     "data": {
      "text/plain": [
       "False"
      ]
     },
     "execution_count": 41,
     "metadata": {},
     "output_type": "execute_result"
    }
   ],
   "source": [
    "\"Arman\".isspace()"
   ]
  },
  {
   "cell_type": "code",
   "execution_count": 42,
   "id": "bc67ad5b",
   "metadata": {},
   "outputs": [
    {
     "data": {
      "text/plain": [
       "False"
      ]
     },
     "execution_count": 42,
     "metadata": {},
     "output_type": "execute_result"
    }
   ],
   "source": [
    "\"Arman is a Software Engineer\".isspace()"
   ]
  },
  {
   "cell_type": "code",
   "execution_count": 45,
   "id": "f4596219",
   "metadata": {},
   "outputs": [
    {
     "data": {
      "text/plain": [
       "False"
      ]
     },
     "execution_count": 45,
     "metadata": {},
     "output_type": "execute_result"
    }
   ],
   "source": [
    "\"A r m a n\".isspace()"
   ]
  },
  {
   "cell_type": "code",
   "execution_count": 48,
   "id": "80c0451a",
   "metadata": {},
   "outputs": [
    {
     "data": {
      "text/plain": [
       "'*****Sachin'"
      ]
     },
     "execution_count": 48,
     "metadata": {},
     "output_type": "execute_result"
    }
   ],
   "source": [
    "\"*****Sachin\".lstrip(' ')"
   ]
  },
  {
   "cell_type": "code",
   "execution_count": 49,
   "id": "aab60cda",
   "metadata": {},
   "outputs": [
    {
     "data": {
      "text/plain": [
       "'Sachin'"
      ]
     },
     "execution_count": 49,
     "metadata": {},
     "output_type": "execute_result"
    }
   ],
   "source": [
    "\"*****Sachin\".lstrip('*')"
   ]
  },
  {
   "cell_type": "code",
   "execution_count": 51,
   "id": "8a1d9b32",
   "metadata": {},
   "outputs": [
    {
     "data": {
      "text/plain": [
       "'*****Sachin'"
      ]
     },
     "execution_count": 51,
     "metadata": {},
     "output_type": "execute_result"
    }
   ],
   "source": [
    "\"*****Sachin\".rstrip('*')"
   ]
  },
  {
   "cell_type": "code",
   "execution_count": 52,
   "id": "0fdf4698",
   "metadata": {},
   "outputs": [
    {
     "data": {
      "text/plain": [
       "'Sachin'"
      ]
     },
     "execution_count": 52,
     "metadata": {},
     "output_type": "execute_result"
    }
   ],
   "source": [
    "\"Sachin*****\".rstrip('*')"
   ]
  },
  {
   "cell_type": "code",
   "execution_count": 54,
   "id": "7222a852",
   "metadata": {},
   "outputs": [
    {
     "data": {
      "text/plain": [
       "'Sachin'"
      ]
     },
     "execution_count": 54,
     "metadata": {},
     "output_type": "execute_result"
    }
   ],
   "source": [
    "\"****Sachin*****\".strip(\"*\")"
   ]
  },
  {
   "cell_type": "code",
   "execution_count": 55,
   "id": "515ca4fa",
   "metadata": {},
   "outputs": [],
   "source": [
    "def myfunc(inp):\n",
    "    inp = inp.lower()  \n",
    "    res = ''\n",
    "    for x in range(len(inp)):\n",
    "        if x % 2 == 0:\n",
    "            res += inp[x].upper()\n",
    "        else:\n",
    "            res += inp[x]\n",
    "    return res"
   ]
  },
  {
   "cell_type": "code",
   "execution_count": 58,
   "id": "76894fe9",
   "metadata": {},
   "outputs": [
    {
     "data": {
      "text/plain": [
       "'HeLlO'"
      ]
     },
     "execution_count": 58,
     "metadata": {},
     "output_type": "execute_result"
    }
   ],
   "source": [
    "myfunc('HELLO')"
   ]
  },
  {
   "cell_type": "markdown",
   "id": "5b49c9f5",
   "metadata": {},
   "source": [
    "**Function Practice Exercises**"
   ]
  },
  {
   "cell_type": "code",
   "execution_count": 64,
   "id": "0850b80c",
   "metadata": {},
   "outputs": [],
   "source": [
    "def check_even(num1, num2):\n",
    "    if num1 % 2 == 0 and num2 % 2 == 0:\n",
    "        return min(num1, num2)\n",
    "    else:\n",
    "        return max(num1, num2)"
   ]
  },
  {
   "cell_type": "code",
   "execution_count": 65,
   "id": "7af65388",
   "metadata": {},
   "outputs": [
    {
     "data": {
      "text/plain": [
       "2"
      ]
     },
     "execution_count": 65,
     "metadata": {},
     "output_type": "execute_result"
    }
   ],
   "source": [
    "check_even(2,4)"
   ]
  },
  {
   "cell_type": "code",
   "execution_count": 66,
   "id": "30bb0cfd",
   "metadata": {},
   "outputs": [
    {
     "data": {
      "text/plain": [
       "5"
      ]
     },
     "execution_count": 66,
     "metadata": {},
     "output_type": "execute_result"
    }
   ],
   "source": [
    "check_even(3,5)"
   ]
  },
  {
   "cell_type": "markdown",
   "id": "e0d04e10",
   "metadata": {},
   "source": [
    "problem - 2"
   ]
  },
  {
   "cell_type": "code",
   "execution_count": 77,
   "id": "e46847eb",
   "metadata": {},
   "outputs": [],
   "source": [
    "def animal_crackers(inp):\n",
    "    wordlist = inp.split()\n",
    "    if wordlist[0][0] == wordlist[1][0]:\n",
    "        return True\n",
    "    else:\n",
    "        return False"
   ]
  },
  {
   "cell_type": "code",
   "execution_count": 78,
   "id": "b00342a5",
   "metadata": {},
   "outputs": [
    {
     "data": {
      "text/plain": [
       "True"
      ]
     },
     "execution_count": 78,
     "metadata": {},
     "output_type": "execute_result"
    }
   ],
   "source": [
    "animal_crackers(\"Animal Alzebra\")"
   ]
  },
  {
   "cell_type": "code",
   "execution_count": 79,
   "id": "91c0306a",
   "metadata": {},
   "outputs": [
    {
     "data": {
      "text/plain": [
       "'A'"
      ]
     },
     "execution_count": 79,
     "metadata": {},
     "output_type": "execute_result"
    }
   ],
   "source": [
    "\"Animal Alzebra\".split()[0][0]"
   ]
  },
  {
   "cell_type": "code",
   "execution_count": 80,
   "id": "cd220458",
   "metadata": {},
   "outputs": [
    {
     "data": {
      "text/plain": [
       "'A'"
      ]
     },
     "execution_count": 80,
     "metadata": {},
     "output_type": "execute_result"
    }
   ],
   "source": [
    "\"Animal Alzebra\".split()[1][0]"
   ]
  },
  {
   "cell_type": "code",
   "execution_count": 82,
   "id": "5e0c3f58",
   "metadata": {},
   "outputs": [
    {
     "data": {
      "text/plain": [
       "False"
      ]
     },
     "execution_count": 82,
     "metadata": {},
     "output_type": "execute_result"
    }
   ],
   "source": [
    "animal_crackers(\"Aloo Bag\")"
   ]
  },
  {
   "cell_type": "markdown",
   "id": "936d97ae",
   "metadata": {},
   "source": [
    "Recommended Way"
   ]
  },
  {
   "cell_type": "code",
   "execution_count": 85,
   "id": "91f150fd",
   "metadata": {},
   "outputs": [],
   "source": [
    "def animal_crackers(inp):\n",
    "    wordlist = inp.lower().split()\n",
    "    return wordlist[0][0] == wordlist[1][0]"
   ]
  },
  {
   "cell_type": "code",
   "execution_count": 86,
   "id": "c34004c0",
   "metadata": {},
   "outputs": [
    {
     "data": {
      "text/plain": [
       "True"
      ]
     },
     "execution_count": 86,
     "metadata": {},
     "output_type": "execute_result"
    }
   ],
   "source": [
    "animal_crackers(\"Fizz fuzz\")"
   ]
  },
  {
   "cell_type": "markdown",
   "id": "03dfa17d",
   "metadata": {},
   "source": [
    "problem - 3"
   ]
  },
  {
   "cell_type": "code",
   "execution_count": 92,
   "id": "713bc019",
   "metadata": {},
   "outputs": [],
   "source": [
    "def make_twenty(n1, n2):\n",
    "    if n1 == 20 or n2 == 20:\n",
    "        return True\n",
    "    elif n1 + n2 == 20:\n",
    "        return True\n",
    "    else:\n",
    "        return False"
   ]
  },
  {
   "cell_type": "code",
   "execution_count": 93,
   "id": "bd768fe2",
   "metadata": {},
   "outputs": [
    {
     "data": {
      "text/plain": [
       "True"
      ]
     },
     "execution_count": 93,
     "metadata": {},
     "output_type": "execute_result"
    }
   ],
   "source": [
    "make_twenty(20,10)"
   ]
  },
  {
   "cell_type": "markdown",
   "id": "420eebce",
   "metadata": {},
   "source": [
    "Recommended Way"
   ]
  },
  {
   "cell_type": "code",
   "execution_count": 89,
   "id": "9933816d",
   "metadata": {},
   "outputs": [],
   "source": [
    "def makes_twenty(n1, n2):\n",
    "    return (n1 + n2) == 20 or n1 == 20 or n2 == 20"
   ]
  },
  {
   "cell_type": "code",
   "execution_count": 90,
   "id": "76178130",
   "metadata": {},
   "outputs": [
    {
     "data": {
      "text/plain": [
       "True"
      ]
     },
     "execution_count": 90,
     "metadata": {},
     "output_type": "execute_result"
    }
   ],
   "source": [
    "makes_twenty(10,10)"
   ]
  },
  {
   "cell_type": "code",
   "execution_count": 91,
   "id": "4346d399",
   "metadata": {},
   "outputs": [
    {
     "data": {
      "text/plain": [
       "False"
      ]
     },
     "execution_count": 91,
     "metadata": {},
     "output_type": "execute_result"
    }
   ],
   "source": [
    "makes_twenty(10,4)"
   ]
  },
  {
   "cell_type": "markdown",
   "id": "7f764117",
   "metadata": {},
   "source": [
    "**Level 1 Problem**"
   ]
  },
  {
   "cell_type": "code",
   "execution_count": 96,
   "id": "25a6d21e",
   "metadata": {},
   "outputs": [],
   "source": [
    "def old_macdonald(inp):\n",
    "    res = ''\n",
    "    for i in range(len(inp)):\n",
    "        if i == 0 or i == 3:\n",
    "            res += inp[i].upper()\n",
    "        else:\n",
    "            res += inp[i]\n",
    "            \n",
    "    return res\n",
    "            "
   ]
  },
  {
   "cell_type": "code",
   "execution_count": 97,
   "id": "b58879eb",
   "metadata": {},
   "outputs": [
    {
     "data": {
      "text/plain": [
       "'MacDonald'"
      ]
     },
     "execution_count": 97,
     "metadata": {},
     "output_type": "execute_result"
    }
   ],
   "source": [
    "old_macdonald('macdonald')"
   ]
  },
  {
   "cell_type": "markdown",
   "id": "10271940",
   "metadata": {},
   "source": [
    "Recommened Way"
   ]
  },
  {
   "cell_type": "code",
   "execution_count": 106,
   "id": "9e581d9a",
   "metadata": {},
   "outputs": [],
   "source": [
    "def old_macdonald(inp):\n",
    "    first_half = inp[:3]\n",
    "    second_half = inp[3:]\n",
    "    \n",
    "    return first_half.capitalize() + second_half.capitalize()"
   ]
  },
  {
   "cell_type": "code",
   "execution_count": 107,
   "id": "47cf327f",
   "metadata": {},
   "outputs": [
    {
     "data": {
      "text/plain": [
       "'MacDonald'"
      ]
     },
     "execution_count": 107,
     "metadata": {},
     "output_type": "execute_result"
    }
   ],
   "source": [
    "old_macdonald('macdonald')"
   ]
  },
  {
   "cell_type": "markdown",
   "id": "6fdb271c",
   "metadata": {},
   "source": [
    "Word Reverse"
   ]
  },
  {
   "cell_type": "code",
   "execution_count": 112,
   "id": "6553df3d",
   "metadata": {},
   "outputs": [],
   "source": [
    "def master_yoda(inp):\n",
    "    words = inp.split()\n",
    "    reverse_word_list = words[::-1]\n",
    "    return reverse_word_list"
   ]
  },
  {
   "cell_type": "code",
   "execution_count": 115,
   "id": "eb71271b",
   "metadata": {},
   "outputs": [
    {
     "data": {
      "text/plain": [
       "['country', 'great', 'a', 'is', 'India']"
      ]
     },
     "execution_count": 115,
     "metadata": {},
     "output_type": "execute_result"
    }
   ],
   "source": [
    "master_yoda(\"India is a great country\")"
   ]
  },
  {
   "cell_type": "code",
   "execution_count": 117,
   "id": "07e076ac",
   "metadata": {},
   "outputs": [],
   "source": [
    "mylist = ['a','b','c']"
   ]
  },
  {
   "cell_type": "code",
   "execution_count": 118,
   "id": "acdc7ee9",
   "metadata": {},
   "outputs": [
    {
     "data": {
      "text/plain": [
       "['a', 'b', 'c']"
      ]
     },
     "execution_count": 118,
     "metadata": {},
     "output_type": "execute_result"
    }
   ],
   "source": [
    "mylist"
   ]
  },
  {
   "cell_type": "code",
   "execution_count": 119,
   "id": "cd165a90",
   "metadata": {},
   "outputs": [
    {
     "data": {
      "text/plain": [
       "'a--b--c'"
      ]
     },
     "execution_count": 119,
     "metadata": {},
     "output_type": "execute_result"
    }
   ],
   "source": [
    "\"--\".join(mylist)"
   ]
  },
  {
   "cell_type": "code",
   "execution_count": 120,
   "id": "9520a9de",
   "metadata": {},
   "outputs": [
    {
     "data": {
      "text/plain": [
       "'a b c'"
      ]
     },
     "execution_count": 120,
     "metadata": {},
     "output_type": "execute_result"
    }
   ],
   "source": [
    "\" \".join(mylist)"
   ]
  },
  {
   "cell_type": "markdown",
   "id": "ece5134f",
   "metadata": {},
   "source": [
    "Recommended Way"
   ]
  },
  {
   "cell_type": "code",
   "execution_count": 121,
   "id": "91b98d6a",
   "metadata": {},
   "outputs": [],
   "source": [
    "def master_yoda(inp):\n",
    "    words = inp.split()\n",
    "    reverse_word_list = words[::-1]\n",
    "    return ' '.join(reverse_word_list)"
   ]
  },
  {
   "cell_type": "code",
   "execution_count": 122,
   "id": "eafd1f57",
   "metadata": {},
   "outputs": [
    {
     "data": {
      "text/plain": [
       "'am I Hello'"
      ]
     },
     "execution_count": 122,
     "metadata": {},
     "output_type": "execute_result"
    }
   ],
   "source": [
    "master_yoda(\"Hello I am\")"
   ]
  },
  {
   "cell_type": "markdown",
   "id": "36d00672",
   "metadata": {},
   "source": [
    "problem - 3"
   ]
  },
  {
   "cell_type": "code",
   "execution_count": 129,
   "id": "d04958f9",
   "metadata": {},
   "outputs": [],
   "source": [
    "def almost_there(n):\n",
    "    return (abs(100-n) <= 10) or (abs(200-n) <= 10)"
   ]
  },
  {
   "cell_type": "code",
   "execution_count": 130,
   "id": "0e52c085",
   "metadata": {},
   "outputs": [
    {
     "data": {
      "text/plain": [
       "True"
      ]
     },
     "execution_count": 130,
     "metadata": {},
     "output_type": "execute_result"
    }
   ],
   "source": [
    "almost_there(94)"
   ]
  },
  {
   "cell_type": "code",
   "execution_count": 131,
   "id": "e1f758c5",
   "metadata": {},
   "outputs": [
    {
     "data": {
      "text/plain": [
       "True"
      ]
     },
     "execution_count": 131,
     "metadata": {},
     "output_type": "execute_result"
    }
   ],
   "source": [
    "almost_there(104)"
   ]
  },
  {
   "cell_type": "code",
   "execution_count": 126,
   "id": "58b5792e",
   "metadata": {},
   "outputs": [
    {
     "data": {
      "text/plain": [
       "True"
      ]
     },
     "execution_count": 126,
     "metadata": {},
     "output_type": "execute_result"
    }
   ],
   "source": [
    "almost_there(90)"
   ]
  },
  {
   "cell_type": "code",
   "execution_count": 132,
   "id": "ca4323eb",
   "metadata": {},
   "outputs": [
    {
     "data": {
      "text/plain": [
       "False"
      ]
     },
     "execution_count": 132,
     "metadata": {},
     "output_type": "execute_result"
    }
   ],
   "source": [
    "almost_there(150)"
   ]
  },
  {
   "cell_type": "code",
   "execution_count": 133,
   "id": "92ae05ec",
   "metadata": {},
   "outputs": [
    {
     "data": {
      "text/plain": [
       "True"
      ]
     },
     "execution_count": 133,
     "metadata": {},
     "output_type": "execute_result"
    }
   ],
   "source": [
    "almost_there(209)"
   ]
  },
  {
   "cell_type": "markdown",
   "id": "0df99a57",
   "metadata": {},
   "source": [
    "**Level - 2 Problems**"
   ]
  },
  {
   "cell_type": "code",
   "execution_count": 135,
   "id": "3c7752e4",
   "metadata": {},
   "outputs": [],
   "source": [
    "def has_33(nums):\n",
    "    for i in range(len(nums)-1):\n",
    "        if nums[i] == 3 and nums[i+1] == 3:\n",
    "            return True\n",
    "    \n",
    "    return False"
   ]
  },
  {
   "cell_type": "code",
   "execution_count": 136,
   "id": "decef6fe",
   "metadata": {},
   "outputs": [
    {
     "data": {
      "text/plain": [
       "False"
      ]
     },
     "execution_count": 136,
     "metadata": {},
     "output_type": "execute_result"
    }
   ],
   "source": [
    "has_33([1,3,4])"
   ]
  },
  {
   "cell_type": "code",
   "execution_count": 137,
   "id": "032e3377",
   "metadata": {},
   "outputs": [
    {
     "data": {
      "text/plain": [
       "True"
      ]
     },
     "execution_count": 137,
     "metadata": {},
     "output_type": "execute_result"
    }
   ],
   "source": [
    "has_33([1,3,3])"
   ]
  },
  {
   "cell_type": "code",
   "execution_count": 141,
   "id": "e6da615b",
   "metadata": {},
   "outputs": [],
   "source": [
    "def paper_doll(text):\n",
    "    res = ''\n",
    "    for i in text:\n",
    "        res += 3*i\n",
    "    \n",
    "    return res"
   ]
  },
  {
   "cell_type": "code",
   "execution_count": 139,
   "id": "60400615",
   "metadata": {},
   "outputs": [
    {
     "data": {
      "text/plain": [
       "'HHHeeellllllooo'"
      ]
     },
     "execution_count": 139,
     "metadata": {},
     "output_type": "execute_result"
    }
   ],
   "source": [
    "paper_doll(\"Hello\")"
   ]
  },
  {
   "cell_type": "code",
   "execution_count": 140,
   "id": "77d30189",
   "metadata": {},
   "outputs": [
    {
     "data": {
      "text/plain": [
       "'MMMiiissssssiiissssssiiippppppiii'"
      ]
     },
     "execution_count": 140,
     "metadata": {},
     "output_type": "execute_result"
    }
   ],
   "source": [
    "paper_doll('Mississippi')"
   ]
  },
  {
   "cell_type": "code",
   "execution_count": 148,
   "id": "f6899c14",
   "metadata": {},
   "outputs": [],
   "source": [
    "def blackjuck(n1,n2,n3):\n",
    "    sum = n1 + n2 + n3\n",
    "    if sum <= 21:\n",
    "        return sum\n",
    "    elif 11 in [n1,n2,n3] and sum <= 31:\n",
    "        return sum - 10\n",
    "    else:\n",
    "        \"BUST\""
   ]
  },
  {
   "cell_type": "code",
   "execution_count": 149,
   "id": "fb5fc42a",
   "metadata": {},
   "outputs": [
    {
     "data": {
      "text/plain": [
       "18"
      ]
     },
     "execution_count": 149,
     "metadata": {},
     "output_type": "execute_result"
    }
   ],
   "source": [
    "blackjuck(5,6,7)"
   ]
  },
  {
   "cell_type": "code",
   "execution_count": 150,
   "id": "b355e25a",
   "metadata": {},
   "outputs": [],
   "source": [
    "blackjuck(9,9,9)"
   ]
  },
  {
   "cell_type": "code",
   "execution_count": 151,
   "id": "cb418ed8",
   "metadata": {},
   "outputs": [
    {
     "data": {
      "text/plain": [
       "19"
      ]
     },
     "execution_count": 151,
     "metadata": {},
     "output_type": "execute_result"
    }
   ],
   "source": [
    "blackjuck(9,9,11)"
   ]
  },
  {
   "cell_type": "markdown",
   "id": "1e55199a",
   "metadata": {},
   "source": [
    "**Lamda Expression, Map and Filter**"
   ]
  },
  {
   "cell_type": "code",
   "execution_count": 152,
   "id": "8ae5c922",
   "metadata": {},
   "outputs": [],
   "source": [
    "def square(num):\n",
    "    return num ** 2"
   ]
  },
  {
   "cell_type": "code",
   "execution_count": 153,
   "id": "116c1e3e",
   "metadata": {},
   "outputs": [],
   "source": [
    "num_list = [1,2,3,4,5,6]"
   ]
  },
  {
   "cell_type": "code",
   "execution_count": 155,
   "id": "09414042",
   "metadata": {},
   "outputs": [
    {
     "name": "stdout",
     "output_type": "stream",
     "text": [
      "1\n",
      "4\n",
      "9\n",
      "16\n",
      "25\n",
      "36\n"
     ]
    }
   ],
   "source": [
    "for item in map(square,num_list):\n",
    "    print(item)"
   ]
  },
  {
   "cell_type": "code",
   "execution_count": 156,
   "id": "f9181c9f",
   "metadata": {},
   "outputs": [
    {
     "data": {
      "text/plain": [
       "[1, 4, 9, 16, 25, 36]"
      ]
     },
     "execution_count": 156,
     "metadata": {},
     "output_type": "execute_result"
    }
   ],
   "source": [
    "list(map(square,num_list))"
   ]
  },
  {
   "cell_type": "code",
   "execution_count": 157,
   "id": "fbae328f",
   "metadata": {},
   "outputs": [],
   "source": [
    "def splicer(mystring):\n",
    "    if len(mystring) % 2 == 0:\n",
    "        return \"EVEN\"\n",
    "    else:\n",
    "        return mystring[0]"
   ]
  },
  {
   "cell_type": "code",
   "execution_count": 158,
   "id": "4601b7bb",
   "metadata": {},
   "outputs": [],
   "source": [
    "names = ['Andy','Eve','Sally']"
   ]
  },
  {
   "cell_type": "code",
   "execution_count": 159,
   "id": "a3cb50df",
   "metadata": {},
   "outputs": [
    {
     "data": {
      "text/plain": [
       "['EVEN', 'E', 'S']"
      ]
     },
     "execution_count": 159,
     "metadata": {},
     "output_type": "execute_result"
    }
   ],
   "source": [
    "list(map(splicer,names))"
   ]
  },
  {
   "cell_type": "markdown",
   "id": "d7bdb122",
   "metadata": {},
   "source": [
    "Filter Function Example"
   ]
  },
  {
   "cell_type": "code",
   "execution_count": 160,
   "id": "97b2c343",
   "metadata": {},
   "outputs": [],
   "source": [
    "def check_even(num):\n",
    "    return num % 2 == 0"
   ]
  },
  {
   "cell_type": "code",
   "execution_count": 161,
   "id": "6e40677f",
   "metadata": {},
   "outputs": [],
   "source": [
    "num_list = [1,2,3,4,5,6]"
   ]
  },
  {
   "cell_type": "code",
   "execution_count": 162,
   "id": "a05bcee4",
   "metadata": {},
   "outputs": [
    {
     "name": "stdout",
     "output_type": "stream",
     "text": [
      "2\n",
      "4\n",
      "6\n"
     ]
    }
   ],
   "source": [
    "for num in filter(check_even,num_list):\n",
    "    print(num)"
   ]
  },
  {
   "cell_type": "code",
   "execution_count": 163,
   "id": "2c0fb164",
   "metadata": {},
   "outputs": [
    {
     "data": {
      "text/plain": [
       "[2, 4, 6]"
      ]
     },
     "execution_count": 163,
     "metadata": {},
     "output_type": "execute_result"
    }
   ],
   "source": [
    "list(filter(check_even,num_list))"
   ]
  },
  {
   "cell_type": "markdown",
   "id": "0ec47302",
   "metadata": {},
   "source": [
    "**Lamda Expression**"
   ]
  },
  {
   "cell_type": "code",
   "execution_count": 170,
   "id": "20c58eca",
   "metadata": {},
   "outputs": [
    {
     "data": {
      "text/plain": [
       "<function __main__.<lambda>(num)>"
      ]
     },
     "execution_count": 170,
     "metadata": {},
     "output_type": "execute_result"
    }
   ],
   "source": [
    "lambda num: num ** 2 "
   ]
  },
  {
   "cell_type": "code",
   "execution_count": 171,
   "id": "614f78ac",
   "metadata": {},
   "outputs": [
    {
     "data": {
      "text/plain": [
       "25"
      ]
     },
     "execution_count": 171,
     "metadata": {},
     "output_type": "execute_result"
    }
   ],
   "source": [
    "square(5)"
   ]
  },
  {
   "cell_type": "code",
   "execution_count": 172,
   "id": "7abf4257",
   "metadata": {},
   "outputs": [
    {
     "data": {
      "text/plain": [
       "[1, 4, 9, 16, 25, 36]"
      ]
     },
     "execution_count": 172,
     "metadata": {},
     "output_type": "execute_result"
    }
   ],
   "source": [
    "list (map(lambda num: num ** 2, num_list))"
   ]
  },
  {
   "cell_type": "code",
   "execution_count": 173,
   "id": "7f357882",
   "metadata": {},
   "outputs": [
    {
     "data": {
      "text/plain": [
       "[2, 4, 6]"
      ]
     },
     "execution_count": 173,
     "metadata": {},
     "output_type": "execute_result"
    }
   ],
   "source": [
    "list(filter(lambda num: num % 2 == 0,num_list))"
   ]
  },
  {
   "cell_type": "code",
   "execution_count": 174,
   "id": "5794b314",
   "metadata": {},
   "outputs": [
    {
     "data": {
      "text/plain": [
       "['Andy', 'Eve', 'Sally']"
      ]
     },
     "execution_count": 174,
     "metadata": {},
     "output_type": "execute_result"
    }
   ],
   "source": [
    "names"
   ]
  },
  {
   "cell_type": "code",
   "execution_count": 176,
   "id": "7e091b19",
   "metadata": {},
   "outputs": [
    {
     "data": {
      "text/plain": [
       "['A', 'E', 'S']"
      ]
     },
     "execution_count": 176,
     "metadata": {},
     "output_type": "execute_result"
    }
   ],
   "source": [
    "list(map(lambda name:name[0], names))"
   ]
  },
  {
   "cell_type": "code",
   "execution_count": 178,
   "id": "5a3ca8f1",
   "metadata": {},
   "outputs": [
    {
     "data": {
      "text/plain": [
       "['ydnA', 'evE', 'yllaS']"
      ]
     },
     "execution_count": 178,
     "metadata": {},
     "output_type": "execute_result"
    }
   ],
   "source": [
    "list(map(lambda reversename:reversename[::-1],names))"
   ]
  },
  {
   "cell_type": "code",
   "execution_count": 181,
   "id": "29e85ee0",
   "metadata": {},
   "outputs": [
    {
     "data": {
      "text/plain": [
       "[False, True, False, True, False, True]"
      ]
     },
     "execution_count": 181,
     "metadata": {},
     "output_type": "execute_result"
    }
   ],
   "source": [
    "list(map(lambda num: num % 2 == 0,num_list))"
   ]
  },
  {
   "cell_type": "code",
   "execution_count": 182,
   "id": "09771c27",
   "metadata": {},
   "outputs": [
    {
     "data": {
      "text/plain": [
       "[2, 4, 6]"
      ]
     },
     "execution_count": 182,
     "metadata": {},
     "output_type": "execute_result"
    }
   ],
   "source": [
    "list(filter(lambda num: num % 2 == 0,num_list))"
   ]
  },
  {
   "cell_type": "markdown",
   "id": "c7ed9fec",
   "metadata": {},
   "source": [
    "**Nested Statements and Scope**"
   ]
  },
  {
   "cell_type": "code",
   "execution_count": 183,
   "id": "7838bf93",
   "metadata": {},
   "outputs": [],
   "source": [
    "x = 25 \n",
    "\n",
    "def printer():\n",
    "    x = 50\n",
    "    return x"
   ]
  },
  {
   "cell_type": "code",
   "execution_count": 184,
   "id": "37368a1c",
   "metadata": {},
   "outputs": [
    {
     "name": "stdout",
     "output_type": "stream",
     "text": [
      "25\n"
     ]
    }
   ],
   "source": [
    "print(x)"
   ]
  },
  {
   "cell_type": "code",
   "execution_count": 185,
   "id": "8054dc99",
   "metadata": {},
   "outputs": [
    {
     "data": {
      "text/plain": [
       "50"
      ]
     },
     "execution_count": 185,
     "metadata": {},
     "output_type": "execute_result"
    }
   ],
   "source": [
    "printer()"
   ]
  },
  {
   "cell_type": "code",
   "execution_count": 186,
   "id": "a601adc8",
   "metadata": {},
   "outputs": [
    {
     "name": "stdout",
     "output_type": "stream",
     "text": [
      "50\n"
     ]
    }
   ],
   "source": [
    "print(printer())"
   ]
  },
  {
   "cell_type": "code",
   "execution_count": 191,
   "id": "6d59ff48",
   "metadata": {},
   "outputs": [],
   "source": [
    "# GLOBAL\n",
    "name = \"THIS IS A GLOBAL STRING\"\n",
    "\n",
    "def greet():\n",
    "    \n",
    "    # ENCLOSING\n",
    "    name = 'Sammy'\n",
    "    \n",
    "    def hello():\n",
    "        print('Hello ' + name)\n",
    "        \n",
    "    hello()"
   ]
  },
  {
   "cell_type": "code",
   "execution_count": 190,
   "id": "747b9036",
   "metadata": {},
   "outputs": [
    {
     "name": "stdout",
     "output_type": "stream",
     "text": [
      "Hello Sammy\n"
     ]
    }
   ],
   "source": [
    "greet()"
   ]
  },
  {
   "cell_type": "code",
   "execution_count": 192,
   "id": "c687ea7a",
   "metadata": {},
   "outputs": [],
   "source": [
    "# GLOBAL\n",
    "name = \"THIS IS A GLOBAL STRING\"\n",
    "\n",
    "def greet():\n",
    "    \n",
    "    # ENCLOSING\n",
    "#     name = 'Sammy'\n",
    "    \n",
    "    def hello():\n",
    "        print('Hello ' + name)\n",
    "        \n",
    "    hello()"
   ]
  },
  {
   "cell_type": "code",
   "execution_count": 193,
   "id": "fc19a17b",
   "metadata": {},
   "outputs": [
    {
     "name": "stdout",
     "output_type": "stream",
     "text": [
      "Hello THIS IS A GLOBAL STRING\n"
     ]
    }
   ],
   "source": [
    "greet()"
   ]
  },
  {
   "cell_type": "code",
   "execution_count": 194,
   "id": "6aa5e34a",
   "metadata": {},
   "outputs": [],
   "source": [
    "# GLOBAL\n",
    "name = \"THIS IS A GLOBAL STRING\"\n",
    "\n",
    "def greet():\n",
    "    \n",
    "    # ENCLOSING\n",
    "    name = 'Sammy'\n",
    "    \n",
    "    def hello():\n",
    "        # LOCAL\n",
    "        name = 'IM A LOCAL'\n",
    "        print('Hello ' + name)\n",
    "        \n",
    "    hello()"
   ]
  },
  {
   "cell_type": "code",
   "execution_count": 198,
   "id": "4b24aab1",
   "metadata": {},
   "outputs": [
    {
     "name": "stdout",
     "output_type": "stream",
     "text": [
      "Hello IM A LOCAL\n"
     ]
    }
   ],
   "source": [
    "greet()"
   ]
  },
  {
   "cell_type": "code",
   "execution_count": 207,
   "id": "c8d109ba",
   "metadata": {},
   "outputs": [],
   "source": [
    "x = 50 \n",
    "\n",
    "def func(x):\n",
    "    print(f'X is {x}')\n",
    "    \n",
    "    #LOCAL REASSIGNMENT\n",
    "    x = 200\n",
    "    print(f'I JUST LOCALLY CHANGED X TO {x}')"
   ]
  },
  {
   "cell_type": "code",
   "execution_count": 208,
   "id": "c683412b",
   "metadata": {},
   "outputs": [
    {
     "name": "stdout",
     "output_type": "stream",
     "text": [
      "X is 50\n",
      "I JUST LOCALLY CHANGED X TO 200\n"
     ]
    }
   ],
   "source": [
    "func(x)"
   ]
  },
  {
   "cell_type": "code",
   "execution_count": 209,
   "id": "c6b43d03",
   "metadata": {},
   "outputs": [
    {
     "name": "stdout",
     "output_type": "stream",
     "text": [
      "50\n"
     ]
    }
   ],
   "source": [
    "print(x)"
   ]
  },
  {
   "cell_type": "code",
   "execution_count": 211,
   "id": "866f3bca",
   "metadata": {},
   "outputs": [],
   "source": [
    "x = 50 \n",
    "\n",
    "def func():\n",
    "    global x\n",
    "    print(f'X is {x}')\n",
    "    \n",
    "    #LOCAL REASSIGNMENT\n",
    "    x = 200\n",
    "    print(f'I JUST LOCALLY CHANGED X TO {x}')"
   ]
  },
  {
   "cell_type": "code",
   "execution_count": 212,
   "id": "506abb5b",
   "metadata": {},
   "outputs": [
    {
     "name": "stdout",
     "output_type": "stream",
     "text": [
      "50\n"
     ]
    }
   ],
   "source": [
    "print(x)"
   ]
  },
  {
   "cell_type": "code",
   "execution_count": 213,
   "id": "23e121ab",
   "metadata": {},
   "outputs": [
    {
     "name": "stdout",
     "output_type": "stream",
     "text": [
      "X is 50\n",
      "I JUST LOCALLY CHANGED X TO 200\n"
     ]
    }
   ],
   "source": [
    "func()"
   ]
  },
  {
   "cell_type": "code",
   "execution_count": 214,
   "id": "0902b2ed",
   "metadata": {},
   "outputs": [
    {
     "name": "stdout",
     "output_type": "stream",
     "text": [
      "200\n"
     ]
    }
   ],
   "source": [
    "print(x)"
   ]
  },
  {
   "cell_type": "code",
   "execution_count": 215,
   "id": "7819bb58",
   "metadata": {},
   "outputs": [],
   "source": [
    "x = 50 \n",
    "\n",
    "def func(x):\n",
    "    print(f'X is {x}')\n",
    "    \n",
    "    #LOCAL REASSIGNMENT\n",
    "    x = 'NEW VALUE'\n",
    "    print(f'I JUST LOCALLY CHANGED X TO {x}')\n",
    "    return x"
   ]
  },
  {
   "cell_type": "code",
   "execution_count": 216,
   "id": "307acaf0",
   "metadata": {},
   "outputs": [
    {
     "name": "stdout",
     "output_type": "stream",
     "text": [
      "50\n"
     ]
    }
   ],
   "source": [
    "print(x)"
   ]
  },
  {
   "cell_type": "code",
   "execution_count": 217,
   "id": "b810edd8",
   "metadata": {},
   "outputs": [
    {
     "name": "stdout",
     "output_type": "stream",
     "text": [
      "X is 50\n",
      "I JUST LOCALLY CHANGED X TO NEW VALUE\n"
     ]
    }
   ],
   "source": [
    "x = func(x)"
   ]
  },
  {
   "cell_type": "code",
   "execution_count": 278,
   "id": "ee2f1d4a",
   "metadata": {},
   "outputs": [
    {
     "name": "stdout",
     "output_type": "stream",
     "text": [
      "NEW VALUE\n"
     ]
    }
   ],
   "source": [
    "print(x)"
   ]
  },
  {
   "cell_type": "markdown",
   "id": "ac7987e8",
   "metadata": {},
   "source": [
    "**problem - 1**"
   ]
  },
  {
   "cell_type": "code",
   "execution_count": 282,
   "id": "b87449c0",
   "metadata": {},
   "outputs": [],
   "source": [
    "def vol(rad):\n",
    "    return (4/3)*(3.14)*(rad ** 3)"
   ]
  },
  {
   "cell_type": "code",
   "execution_count": 283,
   "id": "f3ee7717",
   "metadata": {},
   "outputs": [
    {
     "data": {
      "text/plain": [
       "33.49333333333333"
      ]
     },
     "execution_count": 283,
     "metadata": {},
     "output_type": "execute_result"
    }
   ],
   "source": [
    "vol(2)"
   ]
  },
  {
   "cell_type": "markdown",
   "id": "5916e7a3",
   "metadata": {},
   "source": [
    "**problem - 2**"
   ]
  },
  {
   "cell_type": "code",
   "execution_count": 221,
   "id": "dea86af0",
   "metadata": {},
   "outputs": [],
   "source": [
    "def ran_check(num, low, high):\n",
    "    if num >= low and num <= high:\n",
    "        return f'{num} is in the range between {low} and {high}'\n",
    "    else:\n",
    "        return f'{num} is not in range between {low} and {high}'"
   ]
  },
  {
   "cell_type": "code",
   "execution_count": 220,
   "id": "69baa6d2",
   "metadata": {},
   "outputs": [
    {
     "data": {
      "text/plain": [
       "'5 is in the range between 2 and 7'"
      ]
     },
     "execution_count": 220,
     "metadata": {},
     "output_type": "execute_result"
    }
   ],
   "source": [
    "ran_check(5,2,7)"
   ]
  },
  {
   "cell_type": "code",
   "execution_count": 222,
   "id": "766f42b4",
   "metadata": {},
   "outputs": [
    {
     "data": {
      "text/plain": [
       "'10 is not in range between 2 and 4'"
      ]
     },
     "execution_count": 222,
     "metadata": {},
     "output_type": "execute_result"
    }
   ],
   "source": [
    "ran_check(10,2,4)"
   ]
  },
  {
   "cell_type": "code",
   "execution_count": 223,
   "id": "eda568d5",
   "metadata": {},
   "outputs": [],
   "source": [
    "def ran_check(num, low, high):\n",
    "    if low <= num <= high:\n",
    "        return f'{num} is in the range between {low} and {high}'\n",
    "    else:\n",
    "        return f'{num} is not in range between {low} and {high}'"
   ]
  },
  {
   "cell_type": "code",
   "execution_count": 224,
   "id": "0e091c7b",
   "metadata": {},
   "outputs": [
    {
     "data": {
      "text/plain": [
       "'5 is in the range between 2 and 7'"
      ]
     },
     "execution_count": 224,
     "metadata": {},
     "output_type": "execute_result"
    }
   ],
   "source": [
    "ran_check(5,2,7)"
   ]
  },
  {
   "cell_type": "code",
   "execution_count": 284,
   "id": "8ada2a04",
   "metadata": {},
   "outputs": [
    {
     "data": {
      "text/plain": [
       "'10 is not in range between 2 and 5'"
      ]
     },
     "execution_count": 284,
     "metadata": {},
     "output_type": "execute_result"
    }
   ],
   "source": [
    "ran_check(10,2,5)"
   ]
  },
  {
   "cell_type": "code",
   "execution_count": 285,
   "id": "98ce543f",
   "metadata": {},
   "outputs": [],
   "source": [
    "def ran_check(num,low,high):\n",
    "    if num in range(low,high+1):\n",
    "        return f'{num} is in the range between {low} and {high}'\n",
    "    else:\n",
    "        return f'{num} is not in the range between {low} and {high}'"
   ]
  },
  {
   "cell_type": "code",
   "execution_count": 288,
   "id": "d8d21f32",
   "metadata": {},
   "outputs": [
    {
     "data": {
      "text/plain": [
       "'10 is not in the range between 20 and 30'"
      ]
     },
     "execution_count": 288,
     "metadata": {},
     "output_type": "execute_result"
    }
   ],
   "source": [
    "ran_check(10,20,30)"
   ]
  },
  {
   "cell_type": "code",
   "execution_count": 289,
   "id": "b1dbfa7f",
   "metadata": {},
   "outputs": [
    {
     "data": {
      "text/plain": [
       "'5 is in the range between 2 and 7'"
      ]
     },
     "execution_count": 289,
     "metadata": {},
     "output_type": "execute_result"
    }
   ],
   "source": [
    "ran_check(5,2,7)"
   ]
  },
  {
   "cell_type": "code",
   "execution_count": 226,
   "id": "435f3c68",
   "metadata": {},
   "outputs": [],
   "source": [
    "def ran_bool(num, low, high):\n",
    "    return low <= num <= high"
   ]
  },
  {
   "cell_type": "code",
   "execution_count": 227,
   "id": "99d3a325",
   "metadata": {},
   "outputs": [
    {
     "data": {
      "text/plain": [
       "True"
      ]
     },
     "execution_count": 227,
     "metadata": {},
     "output_type": "execute_result"
    }
   ],
   "source": [
    "ran_bool(5,2,7)"
   ]
  },
  {
   "cell_type": "code",
   "execution_count": 290,
   "id": "cedb90db",
   "metadata": {},
   "outputs": [
    {
     "data": {
      "text/plain": [
       "False"
      ]
     },
     "execution_count": 290,
     "metadata": {},
     "output_type": "execute_result"
    }
   ],
   "source": [
    "ran_bool(20,6,19)"
   ]
  },
  {
   "cell_type": "code",
   "execution_count": 291,
   "id": "18507152",
   "metadata": {},
   "outputs": [],
   "source": [
    "def ran_bool(num,low,high):\n",
    "    return num in range(low,high+1)"
   ]
  },
  {
   "cell_type": "code",
   "execution_count": 293,
   "id": "b205464f",
   "metadata": {},
   "outputs": [
    {
     "data": {
      "text/plain": [
       "True"
      ]
     },
     "execution_count": 293,
     "metadata": {},
     "output_type": "execute_result"
    }
   ],
   "source": [
    "ran_bool(5,2,7)"
   ]
  },
  {
   "cell_type": "code",
   "execution_count": 294,
   "id": "a1a5215a",
   "metadata": {},
   "outputs": [
    {
     "data": {
      "text/plain": [
       "False"
      ]
     },
     "execution_count": 294,
     "metadata": {},
     "output_type": "execute_result"
    }
   ],
   "source": [
    "ran_bool(10,3,9)"
   ]
  },
  {
   "cell_type": "markdown",
   "id": "6d75d062",
   "metadata": {},
   "source": [
    "**Count Upper and lower case characters in a string**"
   ]
  },
  {
   "cell_type": "code",
   "execution_count": 297,
   "id": "6de422e0",
   "metadata": {},
   "outputs": [],
   "source": [
    "def up_low(s):\n",
    "    low_count = 0\n",
    "    up_count = 0\n",
    "    for char in s: \n",
    "        if char.islower():\n",
    "            low_count += 1\n",
    "        elif char.isupper():\n",
    "            up_count += 1\n",
    "        else:\n",
    "            pass\n",
    "            \n",
    "    print(f'No. of upper case characters : {up_count}')\n",
    "    print(f'No. of lower case characters : {low_count}')\n",
    "    "
   ]
  },
  {
   "cell_type": "code",
   "execution_count": 299,
   "id": "71ab797c",
   "metadata": {},
   "outputs": [
    {
     "name": "stdout",
     "output_type": "stream",
     "text": [
      "No. of upper case characters : 3\n",
      "No. of lower case characters : 15\n"
     ]
    }
   ],
   "source": [
    "up_low(\"Hello My name is Arman\")"
   ]
  },
  {
   "cell_type": "code",
   "execution_count": 302,
   "id": "6cd99f69",
   "metadata": {},
   "outputs": [],
   "source": [
    "def up_low(s):\n",
    "    d = {'upper':0, 'lower':0}\n",
    "    for char in s: \n",
    "        if char.islower():\n",
    "            d['lower'] += 1\n",
    "        elif char.isupper():\n",
    "            d['upper'] += 1\n",
    "        else:\n",
    "            pass\n",
    "            \n",
    "    print(f'No. of upper case characters : {d[\"upper\"]}')\n",
    "    print(f'No. of lower case characters : {d[\"lower\"]}')"
   ]
  },
  {
   "cell_type": "code",
   "execution_count": 303,
   "id": "0546f106",
   "metadata": {},
   "outputs": [
    {
     "name": "stdout",
     "output_type": "stream",
     "text": [
      "No. of upper case characters : 3\n",
      "No. of lower case characters : 15\n"
     ]
    }
   ],
   "source": [
    "up_low(\"Hello My name is Arman\")"
   ]
  },
  {
   "cell_type": "markdown",
   "id": "289f47c1",
   "metadata": {},
   "source": [
    "**problem - 3**"
   ]
  },
  {
   "cell_type": "code",
   "execution_count": 247,
   "id": "3b422aad",
   "metadata": {},
   "outputs": [],
   "source": [
    "def unique_list(mylist):\n",
    "    return (list(set(mylist)))"
   ]
  },
  {
   "cell_type": "code",
   "execution_count": 307,
   "id": "81a5eaad",
   "metadata": {},
   "outputs": [],
   "source": [
    "mylist = [1,1,1,1,2,2,3,3,3,3,4,4,5]"
   ]
  },
  {
   "cell_type": "code",
   "execution_count": 308,
   "id": "d80933a4",
   "metadata": {},
   "outputs": [
    {
     "data": {
      "text/plain": [
       "[1, 2, 3, 4, 5]"
      ]
     },
     "execution_count": 308,
     "metadata": {},
     "output_type": "execute_result"
    }
   ],
   "source": [
    "unique_list(mylist)"
   ]
  },
  {
   "cell_type": "code",
   "execution_count": 305,
   "id": "14176489",
   "metadata": {},
   "outputs": [],
   "source": [
    "def unique_list(mylist):\n",
    "    seen_numbers = []\n",
    "    for number in mylist:\n",
    "        if number not in seen_numbers:\n",
    "            seen_numbers.append(number)\n",
    "    return seen_numbers"
   ]
  },
  {
   "cell_type": "code",
   "execution_count": 309,
   "id": "ff9225f0",
   "metadata": {},
   "outputs": [
    {
     "data": {
      "text/plain": [
       "[1, 2, 3, 4, 5]"
      ]
     },
     "execution_count": 309,
     "metadata": {},
     "output_type": "execute_result"
    }
   ],
   "source": [
    "unique_list(mylist)"
   ]
  },
  {
   "cell_type": "markdown",
   "id": "8f18a2bc",
   "metadata": {},
   "source": [
    "**problem - 4**"
   ]
  },
  {
   "cell_type": "code",
   "execution_count": 310,
   "id": "343cbfa2",
   "metadata": {},
   "outputs": [],
   "source": [
    "def mul_list(numbers):\n",
    "    total = 1\n",
    "    for x in numbers:\n",
    "        total *= x\n",
    "    return total"
   ]
  },
  {
   "cell_type": "code",
   "execution_count": 253,
   "id": "caa82560",
   "metadata": {},
   "outputs": [],
   "source": [
    "mylist = [1,2,3,-4]"
   ]
  },
  {
   "cell_type": "code",
   "execution_count": 254,
   "id": "5a9ed06a",
   "metadata": {},
   "outputs": [
    {
     "data": {
      "text/plain": [
       "-24"
      ]
     },
     "execution_count": 254,
     "metadata": {},
     "output_type": "execute_result"
    }
   ],
   "source": [
    "mul_list(mylist)"
   ]
  },
  {
   "cell_type": "markdown",
   "id": "db5ee55c",
   "metadata": {},
   "source": [
    "**Check Palindrome**"
   ]
  },
  {
   "cell_type": "code",
   "execution_count": 317,
   "id": "7ca2a1fa",
   "metadata": {},
   "outputs": [],
   "source": [
    "def check_pal(s):\n",
    "#     rev = s[::-1]\n",
    "    s = s.replace(' ','')\n",
    "    return s == s[::-1]"
   ]
  },
  {
   "cell_type": "code",
   "execution_count": 262,
   "id": "b075ef3b",
   "metadata": {},
   "outputs": [
    {
     "data": {
      "text/plain": [
       "True"
      ]
     },
     "execution_count": 262,
     "metadata": {},
     "output_type": "execute_result"
    }
   ],
   "source": [
    "check_pal('kayak')"
   ]
  },
  {
   "cell_type": "code",
   "execution_count": 263,
   "id": "0b3e41f5",
   "metadata": {},
   "outputs": [
    {
     "data": {
      "text/plain": [
       "False"
      ]
     },
     "execution_count": 263,
     "metadata": {},
     "output_type": "execute_result"
    }
   ],
   "source": [
    "check_pal('race')"
   ]
  },
  {
   "cell_type": "code",
   "execution_count": 313,
   "id": "cbd47cd9",
   "metadata": {},
   "outputs": [
    {
     "data": {
      "text/plain": [
       "True"
      ]
     },
     "execution_count": 313,
     "metadata": {},
     "output_type": "execute_result"
    }
   ],
   "source": [
    "check_pal('racecar')"
   ]
  },
  {
   "cell_type": "code",
   "execution_count": 318,
   "id": "434802e2",
   "metadata": {},
   "outputs": [
    {
     "data": {
      "text/plain": [
       "True"
      ]
     },
     "execution_count": 318,
     "metadata": {},
     "output_type": "execute_result"
    }
   ],
   "source": [
    "check_pal('nurses run')"
   ]
  },
  {
   "cell_type": "markdown",
   "id": "cccfaf94",
   "metadata": {},
   "source": [
    "**Check Pangram**"
   ]
  },
  {
   "cell_type": "code",
   "execution_count": 321,
   "id": "77ceb6c1",
   "metadata": {},
   "outputs": [],
   "source": [
    "def check_pangram(s):\n",
    "    s = s.lower().replace(' ','')\n",
    "    print(set(s))\n",
    "    return len(set(s)) == 26"
   ]
  },
  {
   "cell_type": "code",
   "execution_count": 322,
   "id": "b9750990",
   "metadata": {},
   "outputs": [
    {
     "name": "stdout",
     "output_type": "stream",
     "text": [
      "{'x', 'n', 'j', 'e', 'a', 'b', 's', 't', 'l', 'v', 'z', 'd', 'c', 'h', 'i', 'o', 'k', 'r', 'y', 'f', 'm', 'q', 'p', 'g', 'w', 'u'}\n"
     ]
    },
    {
     "data": {
      "text/plain": [
       "True"
      ]
     },
     "execution_count": 322,
     "metadata": {},
     "output_type": "execute_result"
    }
   ],
   "source": [
    "check_pangram('THE QUICK BROWN FOX JUMPS OVER THE LAZY DOG')"
   ]
  },
  {
   "cell_type": "code",
   "execution_count": 1,
   "id": "4de9e092",
   "metadata": {},
   "outputs": [],
   "source": [
    "mylist_ex = [1,2,3,1,2,3,4,5]"
   ]
  },
  {
   "cell_type": "code",
   "execution_count": 2,
   "id": "8b9ce069",
   "metadata": {},
   "outputs": [
    {
     "data": {
      "text/plain": [
       "[1, 2, 3, 4, 5]"
      ]
     },
     "execution_count": 2,
     "metadata": {},
     "output_type": "execute_result"
    }
   ],
   "source": [
    "list(set(mylist_ex))"
   ]
  },
  {
   "cell_type": "code",
   "execution_count": 3,
   "id": "b5bea9da",
   "metadata": {},
   "outputs": [
    {
     "data": {
      "text/plain": [
       "'gnirtS esreveR'"
      ]
     },
     "execution_count": 3,
     "metadata": {},
     "output_type": "execute_result"
    }
   ],
   "source": [
    "\"Reverse String\"[::-1]"
   ]
  },
  {
   "cell_type": "code",
   "execution_count": null,
   "id": "329a74d4",
   "metadata": {},
   "outputs": [],
   "source": []
  }
 ],
 "metadata": {
  "kernelspec": {
   "display_name": "Python 3 (ipykernel)",
   "language": "python",
   "name": "python3"
  },
  "language_info": {
   "codemirror_mode": {
    "name": "ipython",
    "version": 3
   },
   "file_extension": ".py",
   "mimetype": "text/x-python",
   "name": "python",
   "nbconvert_exporter": "python",
   "pygments_lexer": "ipython3",
   "version": "3.9.7"
  }
 },
 "nbformat": 4,
 "nbformat_minor": 5
}
