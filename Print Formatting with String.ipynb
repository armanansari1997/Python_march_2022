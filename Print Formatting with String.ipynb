{
 "cells": [
  {
   "cell_type": "code",
   "execution_count": 1,
   "id": "3f103dc7",
   "metadata": {},
   "outputs": [
    {
     "name": "stdout",
     "output_type": "stream",
     "text": [
      "This is a String INSERTED\n"
     ]
    }
   ],
   "source": [
    "print(\"This is a String {}\".format(\"INSERTED\"))"
   ]
  },
  {
   "cell_type": "code",
   "execution_count": 4,
   "id": "167801e9",
   "metadata": {},
   "outputs": [
    {
     "name": "stdout",
     "output_type": "stream",
     "text": [
      "Quick Brown Fox\n"
     ]
    }
   ],
   "source": [
    "print(\"{} {} {}\".format(\"Quick\",\"Brown\",\"Fox\"))"
   ]
  },
  {
   "cell_type": "code",
   "execution_count": 9,
   "id": "8bc9e860",
   "metadata": {},
   "outputs": [
    {
     "name": "stdout",
     "output_type": "stream",
     "text": [
      "Fox Brown Fox\n"
     ]
    }
   ],
   "source": [
    "print(\"{2} {1} {2}\".format(\"Quick\",\"Brown\",\"Fox\"))"
   ]
  },
  {
   "cell_type": "code",
   "execution_count": 12,
   "id": "f22db768",
   "metadata": {},
   "outputs": [
    {
     "name": "stdout",
     "output_type": "stream",
     "text": [
      "Fox Fox Brown\n"
     ]
    }
   ],
   "source": [
    "print(\"{f} {f} {b}\".format(q = \"Quick\",b = \"Brown\",f = \"Fox\"))"
   ]
  },
  {
   "cell_type": "markdown",
   "id": "f22da87c",
   "metadata": {},
   "source": [
    "**Float Formatting follows{value:width.precision f}**"
   ]
  },
  {
   "cell_type": "code",
   "execution_count": 13,
   "id": "fb9f1d74",
   "metadata": {},
   "outputs": [],
   "source": [
    "result = 100 / 777"
   ]
  },
  {
   "cell_type": "code",
   "execution_count": 15,
   "id": "f3efed40",
   "metadata": {},
   "outputs": [
    {
     "name": "stdout",
     "output_type": "stream",
     "text": [
      "Result was 0.1287001287001287\n"
     ]
    }
   ],
   "source": [
    "print(\"Result was {r}\".format(r = result))"
   ]
  },
  {
   "cell_type": "code",
   "execution_count": 16,
   "id": "c87cdeee",
   "metadata": {},
   "outputs": [
    {
     "name": "stdout",
     "output_type": "stream",
     "text": [
      "Result was      0.129\n"
     ]
    }
   ],
   "source": [
    "print(\"Result was {r:10.3f}\".format(r = result))"
   ]
  },
  {
   "cell_type": "code",
   "execution_count": 17,
   "id": "76b5adde",
   "metadata": {},
   "outputs": [
    {
     "name": "stdout",
     "output_type": "stream",
     "text": [
      "Result was    0.12870\n"
     ]
    }
   ],
   "source": [
    "print(\"Result was {r:10.5f}\".format(r = result))"
   ]
  },
  {
   "cell_type": "markdown",
   "id": "b246f2d5",
   "metadata": {},
   "source": [
    "**f String Methods**"
   ]
  },
  {
   "cell_type": "code",
   "execution_count": 18,
   "id": "998b3860",
   "metadata": {},
   "outputs": [],
   "source": [
    "name = \"Arman\""
   ]
  },
  {
   "cell_type": "code",
   "execution_count": 19,
   "id": "486a0402",
   "metadata": {},
   "outputs": [
    {
     "name": "stdout",
     "output_type": "stream",
     "text": [
      "Hello My name is Arman\n"
     ]
    }
   ],
   "source": [
    "print(f\"Hello My name is {name}\")"
   ]
  },
  {
   "cell_type": "code",
   "execution_count": 21,
   "id": "57539115",
   "metadata": {},
   "outputs": [],
   "source": [
    "name = \"Sam\"\n",
    "age = 10"
   ]
  },
  {
   "cell_type": "code",
   "execution_count": 24,
   "id": "c8ee6ca7",
   "metadata": {},
   "outputs": [
    {
     "name": "stdout",
     "output_type": "stream",
     "text": [
      "Sam is 10 years old.\n"
     ]
    }
   ],
   "source": [
    "print(f\"{name} is {age} years old.\")"
   ]
  },
  {
   "cell_type": "code",
   "execution_count": null,
   "id": "c68b5a98",
   "metadata": {},
   "outputs": [],
   "source": []
  }
 ],
 "metadata": {
  "kernelspec": {
   "display_name": "Python 3 (ipykernel)",
   "language": "python",
   "name": "python3"
  },
  "language_info": {
   "codemirror_mode": {
    "name": "ipython",
    "version": 3
   },
   "file_extension": ".py",
   "mimetype": "text/x-python",
   "name": "python",
   "nbconvert_exporter": "python",
   "pygments_lexer": "ipython3",
   "version": "3.9.7"
  }
 },
 "nbformat": 4,
 "nbformat_minor": 5
}
